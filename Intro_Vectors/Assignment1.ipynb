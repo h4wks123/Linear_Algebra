{
 "cells": [
  {
   "cell_type": "markdown",
   "id": "19a44bdb",
   "metadata": {},
   "source": [
    "$\\text{Ivanne Dave L. Bayer}$\n"
   ]
  },
  {
   "cell_type": "markdown",
   "id": "589a6707",
   "metadata": {},
   "source": [
    "$1. \\text{Let u = (1, -2, 4), v = (3, 5, 1), and w = (2, 1, -3) find:}$"
   ]
  },
  {
   "cell_type": "markdown",
   "id": "7194b513",
   "metadata": {},
   "source": [
    "\\begin{align*}\n",
    "\\text{a.) 3u - 2v} \\\\\n",
    "\\text{Manual Solution:} \\\\\n",
    "u &= \\begin{bmatrix} 1 & -2 & 4 \\end{bmatrix} \\\\\n",
    "v &= \\begin{bmatrix} 3 & 5 & 1 \\end{bmatrix} \\\\\n",
    "\\text{result} &= (3u) - (2v) \\\\\n",
    "\\text{3u} &= \\begin{bmatrix} 3 & -6 & 12 \\end{bmatrix} \\\\\n",
    "\\text{2v} &= \\begin{bmatrix} 6 & 10 & 2 \\end{bmatrix} \\\\\n",
    "\\text{Answer} &= \\begin{bmatrix} -3 & -16 & 10 \\end{bmatrix} \\\\\n",
    "\\text{Pythonic Solution:}\n",
    "\\end{align*}\n"
   ]
  },
  {
   "cell_type": "code",
   "execution_count": 1,
   "id": "abaebba6",
   "metadata": {},
   "outputs": [
    {
     "name": "stdout",
     "output_type": "stream",
     "text": [
      "a.) 3u - 2v\n",
      "3u : [ 3 -6 12]\n",
      "2v : [ 6 10  2]\n",
      "Answer : [ -3 -16  10]\n"
     ]
    }
   ],
   "source": [
    "import numpy as np\n",
    "\n",
    "print(\"a.) 3u - 2v\")\n",
    "\n",
    "u = np.array([1, -2, 4])\n",
    "v = np.array([3, 5, 1])\n",
    "\n",
    "result = (3 * u) - (2 * v)\n",
    "\n",
    "print(\"3u :\", 3 * u)\n",
    "print(\"2v :\", 2 * v)\n",
    "print(\"Answer :\", result)\n"
   ]
  },
  {
   "cell_type": "markdown",
   "id": "e4e6a126",
   "metadata": {},
   "source": [
    "\\begin{align*}\n",
    "\\text{b.)} \\quad 5u + 3v - 4w \\\\\n",
    "\\text{Manual Solution:} \\\\\n",
    "u &= \\begin{bmatrix} 1 & -2 & 4 \\end{bmatrix} \\\\\n",
    "v &= \\begin{bmatrix} 3 & 5 & 1 \\end{bmatrix} \\\\\n",
    "w &= \\begin{bmatrix} 2 & 1 & -3 \\end{bmatrix} \\\\\n",
    "\\text{result} &= (5u) + (3v) - (4w) \\\\\n",
    "5u &= \\begin{bmatrix} 5 & -10 & 20 \\end{bmatrix} \\\\\n",
    "3v &= \\begin{bmatrix} 9 & 15 & 3 \\end{bmatrix} \\\\\n",
    "4w &= \\begin{bmatrix} 8 & 4 & -12 \\end{bmatrix} \\\\\n",
    "\\text{Answer} &= \\begin{bmatrix} 6 & 1 & 35 \\end{bmatrix} \\\\\n",
    "\\text{Pythonic Solution:} \\\\\n",
    "\\end{align*}\n",
    "\n"
   ]
  },
  {
   "cell_type": "code",
   "execution_count": 2,
   "id": "1d266ec9",
   "metadata": {},
   "outputs": [
    {
     "name": "stdout",
     "output_type": "stream",
     "text": [
      "b.) 5u + 3v - 4w\n",
      "5u : [  5 -10  20]\n",
      "3v : [ 9 15  3]\n",
      "4w : [  8   4 -12]\n",
      "Answer : [ 6  1 35]\n"
     ]
    }
   ],
   "source": [
    "import numpy as np\n",
    "\n",
    "print(\"b.) 5u + 3v - 4w\")\n",
    "\n",
    "u = np.array([1, -2, 4])\n",
    "v = np.array([3, 5, 1])\n",
    "w = np.array([2, 1, -3])\n",
    "\n",
    "result = (5 * u) + (3 * v) - (4 * w)\n",
    "\n",
    "print(\"5u :\", 5 * u)\n",
    "print(\"3v :\", 3 * v)\n",
    "print(\"4w :\", 4 * w)\n",
    "print(\"Answer :\", result)"
   ]
  },
  {
   "cell_type": "markdown",
   "id": "4ec7be91",
   "metadata": {},
   "source": [
    "\\begin{align*}\n",
    "\\text{c.)} \\quad u \\cdot v, v \\cdot w, u \\cdot w \\\\\n",
    "\\text{Manual Solution:} \\\\\n",
    "u &= \\begin{bmatrix} 1 & -2 & 4 \\end{bmatrix} \\\\\n",
    "v &= \\begin{bmatrix} 3 & 5 & 1 \\end{bmatrix} \\\\\n",
    "w &= \\begin{bmatrix} 2 & 1 & -3 \\end{bmatrix} \\\\\n",
    "u \\cdot v &= \\begin{bmatrix} 3 & -10 & 4 \\end{bmatrix}: -3 \\\\\n",
    "v \\cdot w &= \\begin{bmatrix} 6 & 5 & 3 \\end{bmatrix}: 8 \\\\\n",
    "u \\cdot w &= \\begin{bmatrix} 2 & -2 & -12 \\end{bmatrix}: -12 \\\\\n",
    "\\text{Answer} &: -3 \\quad 8 \\quad -12 \\\\\n",
    "\\text{Pythonic Solution:} \\\\\n",
    "\\end{align*}\n"
   ]
  },
  {
   "cell_type": "code",
   "execution_count": 3,
   "id": "ac49498d",
   "metadata": {},
   "outputs": [
    {
     "name": "stdout",
     "output_type": "stream",
     "text": [
      "c.) u * v, v * w, u * w\n",
      "u * v: [  3 -10   4] : -3\n",
      "v * w: [ 6  5 -3] : 8\n",
      "u * w: [  2  -2 -12] : -12\n",
      "Answer : -3 8 -12\n"
     ]
    }
   ],
   "source": [
    "import numpy as np\n",
    "\n",
    "print(\"c.) u * v, v * w, u * w\")\n",
    "\n",
    "u = np.array([1, -2, 4])\n",
    "v = np.array([3, 5, 1])\n",
    "w = np.array([2, 1, -3])\n",
    "\n",
    "result1 = np.dot(u, v)\n",
    "result2 = np.dot(v, w)\n",
    "result3 = np.dot(u, w)\n",
    "\n",
    "print(\"u * v:\", u * v, \":\", result1)\n",
    "print(\"v * w:\", v * w, \":\", result2)\n",
    "print(\"u * w:\", u * w, \":\", result3)\n",
    "print(\"Answer :\", result1, result2, result3)"
   ]
  },
  {
   "cell_type": "markdown",
   "id": "29dec363",
   "metadata": {},
   "source": [
    "\\begin{align*}\n",
    "\\text{d.)} ||\\mathbf{u}||, ||\\mathbf{v}||, ||\\mathbf{w}|| \\\\\n",
    "\\text{Manual Solution:} \\\\\n",
    "||\\mathbf{u}|| &= \\sqrt{1^2 + (-2)^2 + 4^2} = \\sqrt{21} \\\\\n",
    "||\\mathbf{v}|| &= \\sqrt{3^2 + 5^2 + 1^2} = \\sqrt{35} \\\\\n",
    "||\\mathbf{w}|| &= \\sqrt{2^2 + 1^2 + (-3)^2} = \\sqrt{14} \\\\\n",
    "\\text{Pythonic Solution:} \\\\\n",
    "\\end{align*}\n"
   ]
  },
  {
   "cell_type": "code",
   "execution_count": 4,
   "id": "fedb1342",
   "metadata": {},
   "outputs": [
    {
     "name": "stdout",
     "output_type": "stream",
     "text": [
      "d.) ||u||, ||v||, ||w||\n",
      "Answer for ||u|| : 4.58257569495584\n",
      "Answer for ||u|| : 4.58257569495584\n",
      "Answer for ||v|| : 5.916079783099616\n",
      "Answer for ||v|| : 5.916079783099616\n",
      "Answer for ||w|| : 3.7416573867739413\n",
      "Answer for ||w|| : 3.7416573867739413\n"
     ]
    }
   ],
   "source": [
    "import numpy as np\n",
    "\n",
    "print(\"d.) ||u||, ||v||, ||w||\")\n",
    "\n",
    "u = np.array([1, -2, 4])\n",
    "v = np.array([3, 5, 1])\n",
    "w = np.array([2, 1, -3])\n",
    "\n",
    "print(\"Answer for ||u|| :\", np.sqrt(u.dot(u)))\n",
    "print(\"Answer for ||u|| :\", np.sqrt(21))\n",
    "print(\"Answer for ||v|| :\", np.sqrt(v.dot(v)))\n",
    "print(\"Answer for ||v|| :\", np.sqrt(35))\n",
    "print(\"Answer for ||w|| :\", np.sqrt(w.dot(w)))\n",
    "print(\"Answer for ||w|| :\", np.sqrt(14))"
   ]
  },
  {
   "cell_type": "markdown",
   "id": "96a13b9c",
   "metadata": {},
   "source": [
    "\\begin{align*}\n",
    "\\text{e.) If θ is the angle between $\\mathbf{u}$ and $\\mathbf{v}$, find $\\cos{\\theta}$:} \\\\\n",
    "\\text{Manual Solution:} \\\\\n",
    "\\cos{\\theta} &= \\frac{\\mathbf{u} \\cdot \\mathbf{v}}{||\\mathbf{u}|| \\cdot ||\\mathbf{v}||} \\\\\n",
    "&= \\frac{-3}{\\sqrt{21} \\sqrt{35}} \\\\\n",
    "\\text{Pythonic Solution:} \\\\\n",
    "\\end{align*}\n",
    "\n"
   ]
  },
  {
   "cell_type": "code",
   "execution_count": 5,
   "id": "a3c5c291",
   "metadata": {},
   "outputs": [
    {
     "name": "stdout",
     "output_type": "stream",
     "text": [
      "e.) If θ is the angle between u and v, find cos θ:\n",
      "Answer : -0.11065666703449763\n",
      "Answer : -0.11065666703449763\n"
     ]
    }
   ],
   "source": [
    "import numpy as np\n",
    "\n",
    "print(\"e.) If θ is the angle between u and v, find cos θ:\")\n",
    "\n",
    "u = np.array([1, -2, 4])\n",
    "v = np.array([3, 5, 1])\n",
    "\n",
    "print(\"Answer :\", u.dot(v) / (np.linalg.norm(u)*np.linalg.norm(v)))\n",
    "print(\"Answer :\", (-3) / (np.sqrt(21)*np.sqrt(35)))\n"
   ]
  },
  {
   "cell_type": "markdown",
   "id": "0a854364",
   "metadata": {},
   "source": [
    "\\begin{align*}\n",
    "\\text{f.) If $a$ is the angle between $\\mathbf{v}$ and $\\mathbf{w}$, find $\\cos a$:} \\\\\n",
    "\\text{Manual Solution:} \\\\\n",
    "\\cos a &= \\frac{\\mathbf{v} \\cdot \\mathbf{w}}{||\\mathbf{v}|| \\cdot ||\\mathbf{w}||} \\\\\n",
    "&= \\frac{8}{\\sqrt{35} \\sqrt{14}} \\\\\n",
    "\\text{Pythonic Solution:} \\\\\n",
    "\\end{align*}\n",
    "\n"
   ]
  },
  {
   "cell_type": "code",
   "execution_count": 6,
   "id": "e7bfa689",
   "metadata": {},
   "outputs": [
    {
     "name": "stdout",
     "output_type": "stream",
     "text": [
      "f.) If 𝒶 is the angle between v and w, find cos 𝒶:\n",
      "Answer : 0.36140316116210053\n",
      "Answer : 0.36140316116210053\n"
     ]
    }
   ],
   "source": [
    "import numpy as np\n",
    "\n",
    "print(\"f.) If 𝒶 is the angle between v and w, find cos 𝒶:\")\n",
    "\n",
    "v = np.array([3, 5, 1])\n",
    "w : np.array([2, 1, -3])\n",
    "\n",
    "print(\"Answer :\", v.dot(w) / (np.linalg.norm(v)*np.linalg.norm(w)))\n",
    "print(\"Answer :\", 8 / (np.sqrt(35)*np.sqrt(14)))\n"
   ]
  },
  {
   "cell_type": "markdown",
   "id": "af67fec8",
   "metadata": {},
   "source": [
    "\\begin{align*}\n",
    "\\text{g.) If $B$ is the angle between $\\mathbf{u}$ and $\\mathbf{w}$, find $\\cos B$:} \\\\\n",
    "\\text{Manual Solution:} \\\\\n",
    "\\cos B &= \\frac{\\mathbf{u} \\cdot \\mathbf{w}}{||\\mathbf{u}|| \\cdot ||\\mathbf{w}||} \\\\\n",
    "&= \\frac{-12}{\\sqrt{21} \\sqrt{14}} \\\\ \n",
    "\\text{Pythonic Solution:} \\\\\n",
    "\\end{align*}\n"
   ]
  },
  {
   "cell_type": "code",
   "execution_count": 7,
   "id": "671966ad",
   "metadata": {},
   "outputs": [
    {
     "name": "stdout",
     "output_type": "stream",
     "text": [
      "g.) If 𝓑 is the angle between u and v, find cos 𝓑:\n",
      "Answer : -0.6998542122237653\n",
      "Answer : -0.6998542122237653\n"
     ]
    }
   ],
   "source": [
    "import numpy as np\n",
    "\n",
    "print(\"g.) If 𝓑 is the angle between u and v, find cos 𝓑:\")\n",
    "\n",
    "u : np.array([1, -2, 4])\n",
    "w : np.array([2, 1, -3])\n",
    "\n",
    "\n",
    "print(\"Answer :\", u.dot(w) / (np.linalg.norm(u)*np.linalg.norm(w)))\n",
    "print(\"Answer :\", (-12) / (np.sqrt(21)*np.sqrt(14)))"
   ]
  },
  {
   "cell_type": "markdown",
   "id": "c4ae6116",
   "metadata": {},
   "source": [
    "\\begin{align*}\n",
    "\\text{h.) Find } d(\\mathbf{u}, \\mathbf{v}): \\\\\n",
    "\\text{Manual Solution:} \\\\\n",
    "&= \\sqrt{(1 - 3)^2 + ((-2) - 5)^2 + (4 - 1)^2} \\\\\n",
    "&= \\sqrt{4 + 49 + 9} \\\\\n",
    "&= \\sqrt{62} \\\\\n",
    "\\text{Pythonic Solution:} \\\\\n",
    "\\end{align*}"
   ]
  },
  {
   "cell_type": "code",
   "execution_count": 8,
   "id": "27c2bb7c",
   "metadata": {},
   "outputs": [
    {
     "name": "stdout",
     "output_type": "stream",
     "text": [
      "h.) Find d(u,v):\n",
      "Answer : 7.874007874011811\n",
      "Answer : 7.874007874011811\n"
     ]
    }
   ],
   "source": [
    "import numpy as np\n",
    "\n",
    "print(\"h.) Find d(u,v):\")\n",
    "\n",
    "u : np.array([1, -2, 4])\n",
    "v : np.array([3, 5, 1])\n",
    "\n",
    "print(\"Answer :\", np.linalg.norm(u - v))\n",
    "print(\"Answer :\", np.sqrt(62))\n"
   ]
  },
  {
   "cell_type": "markdown",
   "id": "881db432",
   "metadata": {},
   "source": [
    "\\begin{align*}\n",
    "\\text{i.) Find } d(\\mathbf{w}, \\mathbf{v}): \\\\\n",
    "\\text{Manual Solution:} \\\\\n",
    "&= \\sqrt{(3 - 2)^2 + ((-5) - 1)^2 + (1 - (-3))^2} \\\\\n",
    "&= \\sqrt{1 + 16 + 16} \\\\\n",
    "&= \\sqrt{33} \\\\\n",
    "\\text{Pythonic Solution:} \\\\\n",
    "\\end{align*}"
   ]
  },
  {
   "cell_type": "code",
   "execution_count": 9,
   "id": "d2f78b4f",
   "metadata": {},
   "outputs": [
    {
     "name": "stdout",
     "output_type": "stream",
     "text": [
      "i.) Find d(w,v):\n",
      "Answer : 5.744562646538029\n",
      "Answer : 5.744562646538029\n"
     ]
    }
   ],
   "source": [
    "import numpy as np\n",
    "\n",
    "print(\"i.) Find d(w,v):\")\n",
    "\n",
    "v : np.array([3, 5, 1])\n",
    "w = np.array([2, 1, -3])\n",
    "\n",
    "print(\"Answer :\", np.linalg.norm(w-v))\n",
    "print(\"Answer :\", np.sqrt(33))"
   ]
  },
  {
   "cell_type": "markdown",
   "id": "a2066ee1",
   "metadata": {},
   "source": [
    "\\begin{align*}\n",
    "\\text{j.) Find } d(\\mathbf{u}, \\mathbf{w}): \\\\\n",
    "\\text{Manual Solution:} \\\\\n",
    "&= \\sqrt{(1 - 2)^2 + ((-2) - 1)^2 + (4 - (-3))^2} \\\\\n",
    "&= \\sqrt{1 + 9 + 49} \\\\\n",
    "&= \\sqrt{59} \\\\\n",
    "\\text{Pythonic Solution:} \\\\\n",
    "\\end{align*}"
   ]
  },
  {
   "cell_type": "code",
   "execution_count": 10,
   "id": "c73388da",
   "metadata": {},
   "outputs": [
    {
     "name": "stdout",
     "output_type": "stream",
     "text": [
      "j.) Find d(u,w):\n",
      "Answer : 7.681145747868608\n",
      "Answer : 7.681145747868608\n"
     ]
    }
   ],
   "source": [
    "import numpy as np\n",
    "\n",
    "print(\"j.) Find d(u,w):\")\n",
    "\n",
    "u = np.array([1, -2, 4])\n",
    "w = np.array([2, 1, -3])\n",
    "\n",
    "print(\"Answer :\", np.linalg.norm(u-w))\n",
    "print(\"Answer :\", np.sqrt(59))"
   ]
  },
  {
   "cell_type": "markdown",
   "id": "32a6d4f3",
   "metadata": {},
   "source": [
    "\\begin{align*}\n",
    "\\text{k.) Find } proj(\\mathbf{u}, \\mathbf{v}): \\\\\n",
    "\\text{Manual Solution:} \\\\\n",
    "&= \\frac{\\mathbf{u} \\cdot \\mathbf{v}}{||\\mathbf{v}||^2} \\mathbf{v} \\\\\n",
    "&= \\frac{-3}{35}(3, 5, 1) \\\\\n",
    "&= \\left(-\\frac{9}{35}, -\\frac{15}{35}, -\\frac{3}{35}\\right) \\\\\n",
    "\\text{Pythonic Solution:} \\\\\n",
    "\\end{align*}\n"
   ]
  },
  {
   "cell_type": "code",
   "execution_count": 13,
   "metadata": {},
   "outputs": [
    {
     "name": "stdout",
     "output_type": "stream",
     "text": [
      "k.) Find proj(u,v):\n",
      "Answer : [-0.25714286 -0.42857143 -0.08571429]\n",
      "Answer : [-0.2571428571428571, -0.42857142857142855, -0.08571428571428572]\n"
     ]
    }
   ],
   "source": [
    "import numpy as np\n",
    "\n",
    "print(\"k.) Find proj(u,v):\")\n",
    "\n",
    "u = np.array([1, -2, 4])\n",
    "v = np.array([3, 5, 1])\n",
    "\n",
    "print(\"Answer :\", u.dot(v)*v/(np.linalg.norm(v)**2))\n",
    "print(\"Answer :\", [-(9/35), -(15/35), -(3/35)])"
   ]
  },
  {
   "cell_type": "markdown",
   "id": "a4f9db56",
   "metadata": {},
   "source": [
    "\\begin{align*}\n",
    "\\text{l.) Find } proj(\\mathbf{w}, \\mathbf{v}): \\\\\n",
    "\\text{Manual Solution:} \\\\\n",
    "&= \\frac{\\mathbf{w} \\cdot \\mathbf{v}}{||\\mathbf{v}||^2} \\mathbf{v} \\\\\n",
    "&= \\frac{8}{35}(3, 5, 1) \\\\\n",
    "&= \\left(\\frac{24}{35}, 1\\frac{1}{7}, \\frac{8}{35}\\right) \\\\\n",
    "\\text{Pythonic Solution:} \\\\\n",
    "\\end{align*}\n"
   ]
  },
  {
   "cell_type": "code",
   "execution_count": 18,
   "id": "f60a411b",
   "metadata": {},
   "outputs": [
    {
     "name": "stdout",
     "output_type": "stream",
     "text": [
      "l.) Find proj(w,v):\n",
      "Answer : [0.68571429 1.14285714 0.22857143]\n",
      "Answer: [0.6857142857142857, 0.14285714285714285, 0.22857142857142856]\n"
     ]
    }
   ],
   "source": [
    "import numpy as np\n",
    "\n",
    "print(\"l.) Find proj(w,v):\")\n",
    "\n",
    "w = np.array([2, 1, -3])\n",
    "v = np.array([3, 5, 1])\n",
    "\n",
    "print(\"Answer :\", w.dot(v)*v/(np.linalg.norm(v)**2))\n",
    "print(\"Answer:\", [24/35, 1*(1/7), 8/35])\n"
   ]
  },
  {
   "cell_type": "markdown",
   "id": "c90ff4a0",
   "metadata": {},
   "source": [
    "\\begin{align*}\n",
    "\\text{m.) Find } proj(\\mathbf{u}, \\mathbf{w}): \\\\\n",
    "\\text{Manual Solution:} \\\\\n",
    "&= \\frac{\\mathbf{u} \\cdot \\mathbf{w}}{||\\mathbf{w}||^2} \\mathbf{w} \\\\\n",
    "&= \\frac{-12}{14}(2, 1, -13) \\\\\n",
    "&= \\left(\\frac{-12}{7}, -\\frac{-6}{7}, \\frac{18}{7}\\right) \\\\\n",
    "\\text{Pythonic Solution:} \\\\\n",
    "\\end{align*}\n"
   ]
  },
  {
   "cell_type": "code",
   "execution_count": 22,
   "id": "b4d46124",
   "metadata": {},
   "outputs": [
    {
     "name": "stdout",
     "output_type": "stream",
     "text": [
      "m.) Find proj(u,w):\n",
      "Answer : [-1.71428571 -0.85714286  2.57142857]\n",
      "proj(u, w) =  [-1.7142857142857142, -0.8571428571428571, 2.5714285714285716]\n"
     ]
    }
   ],
   "source": [
    "import numpy as np\n",
    "\n",
    "print(\"m.) Find proj(u,w):\")\n",
    "\n",
    "u = np.array([1, -2, 4])\n",
    "w = np.array([2, 1, -3])\n",
    "\n",
    "print(\"Answer :\", u.dot(w)*w/(np.linalg.norm(w)**2))\n",
    "print(\"proj(u, w) = \", [-12/7, -6/7, 18/7])\n"
   ]
  },
  {
   "cell_type": "markdown",
   "id": "d72de873",
   "metadata": {},
   "source": [
    "$2. \\text{Repeat problem 1 with the following column vectors:}$\n",
    "$u = \\begin{bmatrix}\n",
    "1 \\\\\n",
    "3 \\\\\n",
    "-4\n",
    "\\end{bmatrix}, \\quad\n",
    "v = \\begin{bmatrix}\n",
    "2 \\\\\n",
    "1 \\\\\n",
    "5\n",
    "\\end{bmatrix}, \\quad\n",
    "w = \\begin{bmatrix}\n",
    "3 \\\\\n",
    "-2 \\\\\n",
    "6\n",
    "\\end{bmatrix}$\n"
   ]
  },
  {
   "cell_type": "markdown",
   "id": "953f5018",
   "metadata": {},
   "source": [
    "\\begin{align*}\n",
    "\\text{a.)} \\quad \\mathbf{3u} - \\mathbf{2v} \\\\\n",
    "\\text{Manual Solution:} \\\\\n",
    "\\mathbf{u} &= \\begin{bmatrix} 1 \\\\ 3 \\\\ -4 \\end{bmatrix} \\\\\n",
    "\\mathbf{v} &= \\begin{bmatrix} 2 \\\\ 1 \\\\ 5 \\end{bmatrix} \\\\\n",
    "\\text{Result} &= (3\\mathbf{u}) - (2\\mathbf{v}) \\\\\n",
    "3\\mathbf{u} &= \\begin{bmatrix} 3 \\\\ 9 \\\\ -12 \\end{bmatrix} \\\\\n",
    "2\\mathbf{v} &= \\begin{bmatrix} 4 \\\\ 2 \\\\ 10 \\end{bmatrix} \\\\\n",
    "\\text{Answer} &= \\begin{bmatrix} -1 \\\\ 7 \\\\ 22 \\end{bmatrix} \\\\\n",
    "\\text{Pythonic Solution:}\n",
    "\\end{align*}\n"
   ]
  },
  {
   "cell_type": "code",
   "execution_count": 82,
   "id": "a188a0e6",
   "metadata": {},
   "outputs": [
    {
     "name": "stdout",
     "output_type": "stream",
     "text": [
      "a.) 3u - 2v\n",
      "3u : [  3   9 -12]\n",
      "2v : [ 4  2 10]\n",
      "Answer : [ -1   7 -22]\n"
     ]
    }
   ],
   "source": [
    "import numpy as np\n",
    "\n",
    "print(\"a.) 3u - 2v\")\n",
    "\n",
    "u = np.array([1, 3, -4])\n",
    "v = np.array([2, 1, 5])\n",
    "\n",
    "result = (3 * u) - (2 * v)\n",
    "\n",
    "print(\"3u :\", 3 * u)\n",
    "print(\"2v :\", 2 * v)\n",
    "print(\"Answer :\", result)\n"
   ]
  },
  {
   "cell_type": "markdown",
   "id": "887caef1",
   "metadata": {},
   "source": [
    "\\begin{align*}\n",
    "\\text{b.)} \\quad 5u + 3v - 4w \\\\\n",
    "\\text{Manual Solution:} \\\\\n",
    "u &= \\begin{bmatrix} 1 & 3 & -4 \\end{bmatrix} \\\\\n",
    "v &= \\begin{bmatrix} 2 & 1 & 5 \\end{bmatrix} \\\\\n",
    "w &= \\begin{bmatrix} 3 & -2 & 6 \\end{bmatrix} \\\\\n",
    "\\text{result} &= (5u) + (3v) - (4w) \\\\\n",
    "5u &= \\begin{bmatrix} 5 & 15 & -20 \\end{bmatrix} \\\\\n",
    "3v &= \\begin{bmatrix} 6 & 3 & 15 \\end{bmatrix} \\\\\n",
    "4w &= \\begin{bmatrix} 12 & -8 & 24 \\end{bmatrix} \\\\\n",
    "\\text{Answer} &= \\begin{bmatrix} -1 & 26 & -29 \\end{bmatrix} \\\\\n",
    "\\text{Pythonic Solution:} \\\\\n",
    "\\end{align*}\n",
    "\n"
   ]
  },
  {
   "cell_type": "code",
   "execution_count": 83,
   "id": "81c7aa92",
   "metadata": {},
   "outputs": [
    {
     "name": "stdout",
     "output_type": "stream",
     "text": [
      "b.) 5u + 3v - 4w\n",
      "5u : [  5  15 -20]\n",
      "3v : [ 6  3 15]\n",
      "4w : [12 -8 24]\n",
      "Answer : [ -1  26 -29]\n"
     ]
    }
   ],
   "source": [
    "import numpy as np\n",
    "\n",
    "print(\"b.) 5u + 3v - 4w\")\n",
    "\n",
    "u = np.array([1, 3, -4])\n",
    "v = np.array([2, 1, 5])\n",
    "w = np.array([3, -2, 6])\n",
    "\n",
    "result = (5 * u) + (3 * v) - (4 * w)\n",
    "\n",
    "print(\"5u :\", 5 * u)\n",
    "print(\"3v :\", 3 * v)\n",
    "print(\"4w :\", 4 * w)\n",
    "print(\"Answer :\", result)"
   ]
  },
  {
   "cell_type": "markdown",
   "id": "0c6e5af8",
   "metadata": {},
   "source": [
    "\\begin{align*}\n",
    "\\text{c.)} \\quad u \\cdot v, v \\cdot w, u \\cdot w \\\\\n",
    "\\text{Manual Solution:} \\\\\n",
    "\\mathbf{u} &= \\begin{bmatrix} 1 \\\\ 3 \\\\ -4 \\end{bmatrix} \\\\\n",
    "\\mathbf{v} &= \\begin{bmatrix} 2 \\\\ 1 \\\\ 5 \\end{bmatrix} \\\\\n",
    "\\mathbf{w} &= \\begin{bmatrix} 3 \\\\ -2 \\\\ 6 \\end{bmatrix} \\\\\n",
    "u \\cdot v &= \\begin{bmatrix} 2 & 3 & -20 \\end{bmatrix}: -15 \\\\\n",
    "v \\cdot w &= \\begin{bmatrix} 6 & -2 & 30 \\end{bmatrix}: 34 \\\\\n",
    "u \\cdot w &= \\begin{bmatrix} 3 & -6 & -24 \\end{bmatrix}: -27 \\\\\n",
    "\\text{Answer} &: -15 \\quad 34 \\quad -27 \\\\\n",
    "\\text{Python Solution:} \\\\\n",
    "\\end{align*}\n"
   ]
  },
  {
   "cell_type": "code",
   "execution_count": 84,
   "id": "e616326f",
   "metadata": {},
   "outputs": [
    {
     "name": "stdout",
     "output_type": "stream",
     "text": [
      "c.) u * v, v * w, u * w\n",
      "u * v: [  2   3 -20] : -15\n",
      "v * w: [ 6 -2 30] : 34\n",
      "u * w: [  3  -6 -24] : -27\n",
      "Answer : -15 34 -27\n"
     ]
    }
   ],
   "source": [
    "import numpy as np\n",
    "\n",
    "print(\"c.) u * v, v * w, u * w\")\n",
    "\n",
    "u = np.array([1, 3, -4])\n",
    "v = np.array([2, 1, 5])\n",
    "w = np.array([3, -2, 6])\n",
    "\n",
    "result1 = np.dot(u, v)\n",
    "result2 = np.dot(v, w)\n",
    "result3 = np.dot(u, w)\n",
    "\n",
    "print(\"u * v:\", u * v, \":\", result1)\n",
    "print(\"v * w:\", v * w, \":\", result2)\n",
    "print(\"u * w:\", u * w, \":\", result3)\n",
    "print(\"Answer :\", result1, result2, result3)\n"
   ]
  },
  {
   "cell_type": "markdown",
   "id": "bf8948c3",
   "metadata": {},
   "source": [
    "\\begin{align*}\n",
    "\\text{d.)} ||\\mathbf{u}||, ||\\mathbf{v}||, ||\\mathbf{w}|| \\\\\n",
    "\\text{Manual Solution:} \\\\\n",
    "||\\mathbf{u}|| &= \\sqrt{1^2 + 3^2 + (-4)^2} = \\sqrt{26} \\\\\n",
    "||\\mathbf{v}|| &= \\sqrt{2^2 + 1^2 + 5^2} = \\sqrt{30} \\\\\n",
    "||\\mathbf{w}|| &= \\sqrt{3^2 + (-2)^2 + 6^2} = \\sqrt{49} \\\\\n",
    "\\text{Pythonic Solution:} \\\\\n",
    "\\end{align*}"
   ]
  },
  {
   "cell_type": "code",
   "execution_count": 85,
   "id": "9a39ded5",
   "metadata": {},
   "outputs": [
    {
     "name": "stdout",
     "output_type": "stream",
     "text": [
      "d.) ||u||, ||v||, ||w||\n",
      "Answer for ||u|| : 5.0990195135927845\n",
      "Answer for ||u|| : 5.0990195135927845\n",
      "Answer for ||v|| : 5.477225575051661\n",
      "Answer for ||v|| : 5.477225575051661\n",
      "Answer for ||w|| : 7.0\n",
      "Answer for ||w|| : 7.0\n"
     ]
    }
   ],
   "source": [
    "import numpy as np\n",
    "\n",
    "print(\"d.) ||u||, ||v||, ||w||\")\n",
    "\n",
    "u = np.array([1, 3, -4])\n",
    "v = np.array([2, 1, 5])\n",
    "w = np.array([3, -2, 6])\n",
    "\n",
    "print(\"Answer for ||u|| :\", np.sqrt(u.dot(u)))\n",
    "print(\"Answer for ||u|| :\", np.sqrt(26))\n",
    "print(\"Answer for ||v|| :\", np.sqrt(v.dot(v)))\n",
    "print(\"Answer for ||v|| :\", np.sqrt(30))\n",
    "print(\"Answer for ||w|| :\", np.sqrt(w.dot(w)))\n",
    "print(\"Answer for ||w|| :\", np.sqrt(49))"
   ]
  },
  {
   "cell_type": "markdown",
   "id": "e895c010",
   "metadata": {},
   "source": [
    "\\begin{align*}\n",
    "\\text{e.) If θ is the angle between $\\mathbf{u}$ and $\\mathbf{v}$, find $\\cos{\\theta}$:} \\\\\n",
    "\\text{Manual Solution:} \\\\\n",
    "\\cos{\\theta} &= \\frac{\\mathbf{u} \\cdot \\mathbf{v}}{||\\mathbf{u}|| \\cdot ||\\mathbf{v}||} \\\\\n",
    "&= -\\frac{15}{\\sqrt{26} \\sqrt{30}} \\\\\n",
    "\\text{Pythonic Solution:} \\\\\n",
    "\\end{align*}"
   ]
  },
  {
   "cell_type": "code",
   "execution_count": 119,
   "id": "4899bcce",
   "metadata": {},
   "outputs": [
    {
     "name": "stdout",
     "output_type": "stream",
     "text": [
      "e.) If θ is the angle between u and v, find cos θ:\n",
      "Answer : -0.5370861555295747\n",
      "Answer : -0.5370861555295747\n"
     ]
    }
   ],
   "source": [
    "import numpy as np\n",
    "\n",
    "print(\"e.) If θ is the angle between u and v, find cos θ:\")\n",
    "\n",
    "u = np.array([1, 3, -4])\n",
    "v = np.array([2, 1, 5])\n",
    "\n",
    "print(\"Answer :\",u.dot(v)/(np.linalg.norm(u)*np.linalg.norm(v)))\n",
    "print(\"Answer :\", -(15 / (np.sqrt(26)*np.sqrt(30))))\n"
   ]
  },
  {
   "cell_type": "markdown",
   "id": "c31c1868",
   "metadata": {},
   "source": [
    "\\begin{align*}\n",
    "\\text{f.) If $a$ is the angle between $\\mathbf{v}$ and $\\mathbf{w}$, find $\\cos a$:} \\\\\n",
    "\\text{Manual Solution:} \\\\\n",
    "\\cos a &= \\frac{\\mathbf{v} \\cdot \\mathbf{w}}{||\\mathbf{v}|| \\cdot ||\\mathbf{w}||} \\\\\n",
    "&= \\frac{34}{\\sqrt{7} \\sqrt{30}} \\\\\n",
    "\\text{Pythonic Solution:} \\\\\n",
    "\\end{align*}\n"
   ]
  },
  {
   "cell_type": "code",
   "execution_count": 120,
   "id": "e222b5e1",
   "metadata": {},
   "outputs": [
    {
     "name": "stdout",
     "output_type": "stream",
     "text": [
      "f.) If 𝒶 is the angle between v and w, find cos 𝒶:\n",
      "Answer : 0.8867889026274118\n",
      "Answer : 0.8867889026274118\n"
     ]
    }
   ],
   "source": [
    "import numpy as np\n",
    "\n",
    "print(\"f.) If 𝒶 is the angle between v and w, find cos 𝒶:\")\n",
    "\n",
    "v = np.array([2, 1, 5])\n",
    "w = np.array([3, -2, 6])\n",
    "\n",
    "print(\"Answer :\", v.dot(w) / (np.linalg.norm(v)*np.linalg.norm(w)))\n",
    "print(\"Answer :\", 34 / (np.sqrt(30)*np.sqrt(49)))\n"
   ]
  },
  {
   "cell_type": "markdown",
   "id": "cc6910ba",
   "metadata": {},
   "source": [
    "\\begin{align*}\n",
    "\\text{g.) If $B$ is the angle between $\\mathbf{u}$ and $\\mathbf{w}$, find $\\cos B$:} \\\\\n",
    "\\text{Manual Solution:} \\\\\n",
    "\\cos B &= \\frac{\\mathbf{u} \\cdot \\mathbf{w}}{||\\mathbf{u}|| \\cdot ||\\mathbf{w}||} \\\\\n",
    "&= -\\frac{27}{7 \\sqrt{26}} \\\\\n",
    "\\text{Pythonic Solution:} \\\\\n",
    "\\end{align*}\n"
   ]
  },
  {
   "cell_type": "code",
   "execution_count": 88,
   "id": "9c2d472f",
   "metadata": {},
   "outputs": [
    {
     "name": "stdout",
     "output_type": "stream",
     "text": [
      "g.) If 𝓑 is the angle between u and v, find cos 𝓑:\n",
      "Answer : -0.7564479498187099\n",
      "angle =  -0.7564479498187099\n"
     ]
    }
   ],
   "source": [
    "import numpy as np\n",
    "\n",
    "print(\"g.) If 𝓑 is the angle between u and v, find cos 𝓑:\")\n",
    "\n",
    "u = np.array([1, 3, -4])\n",
    "w = np.array([3, -2, 6])\n",
    "\n",
    "\n",
    "print(\"Answer :\", u.dot(w) / (np.linalg.norm(u)*np.linalg.norm(w)))\n",
    "print(\"Answer :\", (-27) / (np.sqrt(26)*np.sqrt(49)))"
   ]
  },
  {
   "cell_type": "markdown",
   "id": "9cffbe8e",
   "metadata": {},
   "source": [
    "\\begin{align*}\n",
    "\\text{h.) Find } d(\\mathbf{u}, \\mathbf{v}): \\\\\n",
    "\\text{Manual Solution:} \\\\\n",
    "&= \\sqrt{(1 - 2)^2 + (3 - 1)^2 + ((-4) - 5)^2} \\\\\n",
    "&= \\sqrt{1 + 4 + 81} \\\\\n",
    "&= \\sqrt{86} \\\\\n",
    "\\text{Pythonic Solution:} \\\\\n",
    "\\end{align*}"
   ]
  },
  {
   "cell_type": "code",
   "execution_count": 121,
   "id": "fa9a6663",
   "metadata": {},
   "outputs": [
    {
     "name": "stdout",
     "output_type": "stream",
     "text": [
      "h.) Find d(u,v):\n",
      "Answer : 9.273618495495704\n",
      "Answer : 9.273618495495704\n"
     ]
    }
   ],
   "source": [
    "import numpy as np\n",
    "\n",
    "print(\"h.) Find d(u,v):\")\n",
    "\n",
    "u = np.array([1, 3, -4])\n",
    "v = np.array([2, 1, 5])\n",
    "\n",
    "print(\"Answer :\", np.linalg.norm(u - v))\n",
    "print(\"Answer :\", np.sqrt(86))"
   ]
  },
  {
   "cell_type": "markdown",
   "id": "5d571e77",
   "metadata": {},
   "source": [
    "\\begin{align*}\n",
    "\\text{i.) Find } d(\\mathbf{w}, \\mathbf{v}): \\\\\n",
    "\\text{Manual Solution:} \\\\\n",
    "&= \\sqrt{(2 - 3)^2 + (1 - (-2))^2 + (5 - 6)^2} \\\\\n",
    "&= \\sqrt{1 + 9 + 1} \\\\\n",
    "&= \\sqrt{11} \\\\\n",
    "\\text{Pythonic Solution:} \\\\\n",
    "\\end{align*}"
   ]
  },
  {
   "cell_type": "code",
   "execution_count": 122,
   "id": "b52f7f5a",
   "metadata": {},
   "outputs": [
    {
     "name": "stdout",
     "output_type": "stream",
     "text": [
      "i.) Find d(w,v):\n",
      "Answer : 3.3166247903554\n",
      "Answer : 3.3166247903554\n"
     ]
    }
   ],
   "source": [
    "import numpy as np\n",
    "\n",
    "print(\"i.) Find d(w,v):\")\n",
    "\n",
    "v = np.array([2, 1, 5])\n",
    "w = np.array([3, -2, 6])\n",
    "\n",
    "print(\"Answer :\", np.linalg.norm(w-v))\n",
    "print(\"Answer :\", np.sqrt(11))"
   ]
  },
  {
   "cell_type": "markdown",
   "id": "f2f4fa3e",
   "metadata": {},
   "source": [
    "\\begin{align*}\n",
    "\\text{j.) Find } d(\\mathbf{u}, \\mathbf{w}): \\\\\n",
    "\\text{Manual Solution:} \\\\\n",
    "&= \\sqrt{(1 - 3)^2 + (3 - (-2))^2 + ((-4) - 6)^2} \\\\\n",
    "&= \\sqrt{4 + 25 + 100} \\\\\n",
    "&= \\sqrt{129} \\\\\n",
    "\\text{Pythonic Solution:} \\\\\n",
    "\\end{align*}"
   ]
  },
  {
   "cell_type": "code",
   "execution_count": 123,
   "id": "d12ceffb",
   "metadata": {},
   "outputs": [
    {
     "name": "stdout",
     "output_type": "stream",
     "text": [
      "j.) Find d(u,w):\n",
      "Answer : 11.357816691600547\n",
      "Answer : 11.357816691600547\n"
     ]
    }
   ],
   "source": [
    "import numpy as np\n",
    "\n",
    "print(\"j.) Find d(u,w):\")\n",
    "\n",
    "u = np.array([1, 3, -4])\n",
    "w = np.array([3, -2, 6])\n",
    "\n",
    "print(\"Answer :\", np.linalg.norm(u-w))\n",
    "print(\"Answer :\", np.sqrt(129))"
   ]
  },
  {
   "cell_type": "markdown",
   "id": "a7d17fff",
   "metadata": {},
   "source": [
    "\\begin{align*}\n",
    "\\text{k.) Find } proj(\\mathbf{u}, \\mathbf{v}): \\\\\n",
    "\\text{Manual Solution:} \\\\\n",
    "&= \\frac{\\mathbf{u} \\cdot \\mathbf{v}}{||\\mathbf{v}||^2} \\mathbf{v} \\\\\n",
    "&= \\frac{-15}{30}(2, 1, 5) \\\\\n",
    "&= \\left(-1, \\frac{-1}{2}, \\frac{-5}{2}\\right) \\\\\n",
    "\\text{Pythonic Solution:} \\\\\n",
    "\\end{align*}"
   ]
  },
  {
   "cell_type": "code",
   "execution_count": 124,
   "id": "caaeabf6",
   "metadata": {},
   "outputs": [
    {
     "name": "stdout",
     "output_type": "stream",
     "text": [
      "k.) Find proj(u,v):\n",
      "Answer : [-1.  -0.5 -2.5]\n",
      "Answer : [-1, -0.5, -2.5]\n"
     ]
    }
   ],
   "source": [
    "import numpy as np\n",
    "\n",
    "print(\"k.) Find proj(u,v):\")\n",
    "\n",
    "u = np.array([1, 3, -4])\n",
    "v = np.array([2, 1, 5])\n",
    "\n",
    "print(\"Answer :\", u.dot(v)*v/(np.linalg.norm(v)**2))\n",
    "print(\"Answer :\", [(-1), (-1)/2, (-5)/2])\n"
   ]
  },
  {
   "cell_type": "markdown",
   "id": "83941127",
   "metadata": {},
   "source": [
    "\\begin{align*}\n",
    "\\text{l.) Find } proj(\\mathbf{w}, \\mathbf{v}): \\\\\n",
    "\\text{Manual Solution:} \\\\\n",
    "&= \\frac{\\mathbf{w} \\cdot \\mathbf{v}}{||\\mathbf{v}||^2} \\mathbf{v} \\\\\n",
    "&= \\frac{34}{30}(2, 1, 5) \\\\\n",
    "&= \\left(\\frac{68}{40}, \\frac{34}{30}, \\frac{170}{30}\\right) \\\\\n",
    "\\text{Pythonic Solution:} \\\\\n",
    "\\end{align*}\n"
   ]
  },
  {
   "cell_type": "code",
   "execution_count": 125,
   "id": "770eca0a",
   "metadata": {},
   "outputs": [
    {
     "name": "stdout",
     "output_type": "stream",
     "text": [
      "l.) Find proj(w,v):\n",
      "Answer : [2.26666667 1.13333333 5.66666667]\n",
      "proj(u, v) =  [2.2666666666666666, 1.1333333333333333, 5.666666666666667]\n"
     ]
    }
   ],
   "source": [
    "import numpy as np\n",
    "\n",
    "print(\"l.) Find proj(w,v):\")\n",
    "\n",
    "w = np.array([3, -2, 6])\n",
    "v = np.array([2, 1, 5])\n",
    "\n",
    "print(\"Answer :\", w.dot(v)*v/(np.linalg.norm(v)**2))\n",
    "print(\"Answer :\", [68/30, 34/30, 170/30])\n"
   ]
  },
  {
   "cell_type": "markdown",
   "id": "6708254e",
   "metadata": {},
   "source": [
    "\\begin{align*}\n",
    "\\text{m.) Find } proj(\\mathbf{u}, \\mathbf{w}): \\\\\n",
    "\\text{Manual Solution:} \\\\\n",
    "&= \\frac{\\mathbf{u} \\cdot \\mathbf{w}}{||\\mathbf{w}||^2} \\mathbf{w} \\\\\n",
    "&= \\frac{-27}{49}(3, -2, 6) \\\\\n",
    "&= \\left(\\frac{-81}{49}, \\frac{54}{49}, \\frac{-162}{49}\\right) \\\\\n",
    "\\text{Pythonic Solution:} \\\\\n",
    "\\end{align*}"
   ]
  },
  {
   "cell_type": "markdown",
   "id": "8e790c9f",
   "metadata": {},
   "source": []
  },
  {
   "cell_type": "code",
   "execution_count": 126,
   "id": "c7ebc44e",
   "metadata": {},
   "outputs": [
    {
     "name": "stdout",
     "output_type": "stream",
     "text": [
      "m.) Find proj(u,w):\n",
      "Answer : [-1.65306122  1.10204082 -3.30612245]\n",
      "Answer : [-1.653061224489796, 1.1020408163265305, -3.306122448979592]\n"
     ]
    }
   ],
   "source": [
    "import numpy as np\n",
    "\n",
    "print(\"m.) Find proj(u,w):\")\n",
    "\n",
    "u = np.array([1, 3, -4])\n",
    "w = np.array([3, -2, 6])\n",
    "\n",
    "print(\"Answer :\", u.dot(w)*w/(np.linalg.norm(w)**2))\n",
    "print(\"Answer :\", [-81/49, 54/49, -162/49])\n"
   ]
  },
  {
   "cell_type": "markdown",
   "id": "98ecaae5",
   "metadata": {},
   "source": [
    "$3. \\text{Let u = (2, -5, 4, 6, -3), v = (5, -2, 1, -7, -4), and w = (2, 1, -3) find:}$"
   ]
  },
  {
   "cell_type": "markdown",
   "id": "4c259c57",
   "metadata": {},
   "source": [
    "\\begin{align*}\n",
    "\\text{a.) 4u - 3v} \\\\\n",
    "\\text{Manual Solution:} \\\\\n",
    "u &= \\begin{bmatrix} 2 & -5 & 4 & 6 & -3 \\end{bmatrix} \\\\\n",
    "v &= \\begin{bmatrix} 5 & -2 & 1 & -7 & -4 \\end{bmatrix} \\\\\n",
    "\\text{result} &= (3u) - (2v) \\\\\n",
    "\\text{4u} &= \\begin{bmatrix} 8 & -20 & 16 & 24 & -12 \\end{bmatrix} \\\\\n",
    "\\text{3v} &= \\begin{bmatrix} 15 & -6 & 3 & -21 & -12 \\end{bmatrix} \\\\\n",
    "\\text{Answer} &= \\begin{bmatrix} -7 & -14 & 13 & 45 & 0 \\end{bmatrix} \\\\\n",
    "\\text{Pythonic Solution:}\n",
    "\\end{align*}\n"
   ]
  },
  {
   "cell_type": "code",
   "execution_count": 95,
   "id": "c6f1878b",
   "metadata": {},
   "outputs": [
    {
     "name": "stdout",
     "output_type": "stream",
     "text": [
      "a.) 4u - 3v\n",
      "3u : [  8 -20  16  24 -12]\n",
      "2v : [ 15  -6   3 -21 -12]\n",
      "Answer : [ -7 -14  13  45   0]\n"
     ]
    }
   ],
   "source": [
    "import numpy as np\n",
    "\n",
    "print(\"a.) 4u - 3v\")\n",
    "\n",
    "u = np.array([2, -5, 4, 6, -3])\n",
    "v = np.array([5, -2, 1, -7, -4])\n",
    "\n",
    "result = (4 * u) - (3 * v)\n",
    "\n",
    "print(\"3u :\", 4 * u)\n",
    "print(\"2v :\", 3 * v)\n",
    "print(\"Answer :\", result)"
   ]
  },
  {
   "cell_type": "markdown",
   "id": "807de3da",
   "metadata": {},
   "source": [
    "\\begin{align*}\n",
    "\\text{b.)} \\quad 5u + 2v - 2w \\\\\n",
    "\\text{Manual Solution:} \\\\\n",
    "u &= \\begin{bmatrix} 2 & -5 & 4 & 6 & -3 \\end{bmatrix} \\\\\n",
    "v &= \\begin{bmatrix} 5 & -2 & 1 & -7 & -4 \\end{bmatrix} \\\\\n",
    "w &= \\begin{bmatrix} 2 & 1 & -3 & 0 & 0 \\end{bmatrix} \\\\\n",
    "\\text{result} &= (5u) + (2v) - (2w) \\\\\n",
    "5u &= \\begin{bmatrix} 10 & -25 & 20 & 30 & -15 \\end{bmatrix} \\\\\n",
    "2v &= \\begin{bmatrix} 10 & -4 & 2 & -14 -8 \\end{bmatrix} \\\\\n",
    "2w &= \\begin{bmatrix} 4 & 2 & -6 & 0 & 0 \\end{bmatrix} \\\\\n",
    "\\text{Answer} &= \\begin{bmatrix} 16 & -31 & 28 & 16 & -23 \\end{bmatrix} \\\\\n",
    "\\text{Pythonic Solution:} \\\\\n",
    "\\end{align*}\n",
    "\n"
   ]
  },
  {
   "cell_type": "code",
   "execution_count": 96,
   "id": "7d590ac6",
   "metadata": {},
   "outputs": [
    {
     "name": "stdout",
     "output_type": "stream",
     "text": [
      "b.) 5u + 2v - 2w\n",
      "5u: [ 10 -25  20  30 -15]\n",
      "2v: [ 10  -4   2 -14  -8]\n",
      "2w: [ 4  2 -6  0  0]\n",
      "Answer: [ 16 -31  28  16 -23]\n"
     ]
    }
   ],
   "source": [
    "import numpy as np\n",
    "\n",
    "print(\"b.) 5u + 2v - 2w\")\n",
    "\n",
    "u = np.array([2, -5, 4, 6, -3])\n",
    "v = np.array([5, -2, 1, -7, -4])\n",
    "w = np.array([2, 1, -3, 0, 0])\n",
    "\n",
    "result = (5 * u) + (2 * v) - (2 * w)\n",
    "\n",
    "print(\"5u:\", 5 * u)\n",
    "print(\"2v:\", 2 * v)\n",
    "print(\"2w:\", 2 * w)\n",
    "print(\"Answer:\", result)\n"
   ]
  },
  {
   "cell_type": "markdown",
   "id": "0fab0787",
   "metadata": {},
   "source": [
    "\\begin{align*}\n",
    "\\text{c.)} \\quad u \\cdot v, v \\cdot w, u \\cdot w \\\\\n",
    "\\text{Manual Solution:} \\\\\n",
    "u &= \\begin{bmatrix} 2 & -5 & 4 & 6 & -3 \\end{bmatrix} \\\\\n",
    "v &= \\begin{bmatrix} 5 & -2 & 1 & -7 & -4 \\end{bmatrix} \\\\\n",
    "w &= \\begin{bmatrix} 2 & 1 & -3 & 0 & 0 \\end{bmatrix} \\\\\n",
    "u \\cdot v &= \\begin{bmatrix}  10 & 10 & 4 & -42 & 12 \\end{bmatrix}: -6 \\\\\n",
    "v \\cdot w &= \\begin{bmatrix} 10 & -2 & -3 & 0 & 0 \\end{bmatrix}: 5 \\\\\n",
    "u \\cdot w &= \\begin{bmatrix} 4 & -5 & -12 & 0 & 0 \\end{bmatrix}: -13 \\\\\n",
    "\\text{Answer} &: -6 \\quad 5 \\quad -13 \\\\\n",
    "\\text{Pythonic Solution:} \\\\\n",
    "\\end{align*}\n"
   ]
  },
  {
   "cell_type": "code",
   "execution_count": 117,
   "id": "e36d39d3",
   "metadata": {},
   "outputs": [
    {
     "name": "stdout",
     "output_type": "stream",
     "text": [
      "c.) u * v, v * w, u * w\n",
      "u * v: [ 10  10   4 -42  12] : -6\n",
      "v * w: [10 -2 -3  0  0] : 5\n",
      "u * w: [  4  -5 -12   0   0] : -13\n",
      "Answer : -6 5 -13\n"
     ]
    }
   ],
   "source": [
    "import numpy as np\n",
    "\n",
    "print(\"c.) u * v, v * w, u * w\")\n",
    "\n",
    "u = np.array([2, -5, 4, 6, -3])\n",
    "v = np.array([5, -2, 1, -7, -4])\n",
    "w = np.array([2, 1, -3, 0, 0])\n",
    "\n",
    "result1 = np.dot(u, v)\n",
    "result2 = np.dot(v, w)\n",
    "result3 = np.dot(u, w)\n",
    "\n",
    "print(\"u * v:\", u * v, \":\", result1)\n",
    "print(\"v * w:\", v * w, \":\", result2)\n",
    "print(\"u * w:\", u * w, \":\", result3)\n",
    "print(\"Answer :\", result1, result2, result3)"
   ]
  },
  {
   "cell_type": "markdown",
   "id": "2c929bc0",
   "metadata": {},
   "source": [
    "\\begin{align*}\n",
    "\\text{d.)} ||\\mathbf{u}||, ||\\mathbf{v}||, ||\\mathbf{w}|| \\\\\n",
    "\\text{Manual Solution:} \\\\\n",
    "||\\mathbf{u}|| &= \\sqrt{2^2 + (-5)^2 + 4^2 + 6^2 + (-3)^2} = \\sqrt{90} \\\\\n",
    "||\\mathbf{v}|| &= \\sqrt{5^2 + (-2)^2 + 1^2 + (-7)^2 + (-4)^2} = \\sqrt{95} \\\\ \n",
    "||\\mathbf{w}|| &= \\sqrt{2^2 + 1^2 + (-3)^2 + 0^2 + 0^2} = \\sqrt{14} \\\\\n",
    "\\text{Pythonic Solution:} \\\\\n",
    "\\end{align*}\n"
   ]
  },
  {
   "cell_type": "code",
   "execution_count": 98,
   "id": "9362b67e",
   "metadata": {},
   "outputs": [
    {
     "name": "stdout",
     "output_type": "stream",
     "text": [
      "d.) ||u||, ||v||, ||w||\n",
      "||u|| =  9.486832980505138\n",
      "||u|| =  9.486832980505138\n",
      "||v|| =  9.746794344808963\n",
      "||v|| =  9.746794344808963\n",
      "||w|| =  3.7416573867739413\n",
      "||w|| =  3.7416573867739413\n"
     ]
    }
   ],
   "source": [
    "import numpy as np\n",
    "\n",
    "print(\"d.) ||u||, ||v||, ||w||\")\n",
    "\n",
    "u = np.array([2, -5, 4, 6, -3])\n",
    "v = np.array([5, -2, 1, -7, -4])\n",
    "w = np.array([2, 1, -3, 0, 0])\n",
    "\n",
    "print(\"||u|| = \", np.sqrt(u.dot(u)))\n",
    "print(\"||u|| = \", np.sqrt(90))\n",
    "print(\"||v|| = \", np.sqrt(v.dot(v)))\n",
    "print(\"||v|| = \", np.sqrt(95))\n",
    "print(\"||w|| = \", np.sqrt(w.dot(w)))\n",
    "print(\"||w|| = \", np.sqrt(14))"
   ]
  },
  {
   "cell_type": "markdown",
   "id": "40d980f3",
   "metadata": {},
   "source": [
    "\\begin{align*}\n",
    "\\text{e.) If θ is the angle between $\\mathbf{u}$ and $\\mathbf{v}$, find $\\cos{\\theta}$:} \\\\\n",
    "\\text{Manual Solution:} \\\\\n",
    "\\cos{\\theta} &= \\frac{\\mathbf{u} \\cdot \\mathbf{v}}{||\\mathbf{u}|| \\cdot ||\\mathbf{v}||} \\\\\n",
    "&= \\frac{-6}{\\sqrt{90} \\sqrt{95}} \\\\ \n",
    "\\text{Pythonic Solution:} \\\\\n",
    "\\end{align*}"
   ]
  },
  {
   "cell_type": "code",
   "execution_count": 99,
   "id": "f16b2a36",
   "metadata": {},
   "outputs": [
    {
     "name": "stdout",
     "output_type": "stream",
     "text": [
      "e.) If θ is the angle between u and v, find cos θ:\n",
      "Answer : -0.06488856845230502\n",
      "Answer : -0.06488856845230502\n"
     ]
    }
   ],
   "source": [
    "import numpy as np\n",
    "\n",
    "print(\"e.) If θ is the angle between u and v, find cos θ:\")\n",
    "\n",
    "u = np.array([2, -5, 4, 6, -3])\n",
    "v = np.array([5, -2, 1, -7, -4])\n",
    "\n",
    "print(\"Answer :\", u.dot(v) / (np.linalg.norm(u)*np.linalg.norm(v)))\n",
    "print(\"Answer :\", (-6) / (np.sqrt(90)*np.sqrt(95)))\n"
   ]
  },
  {
   "cell_type": "markdown",
   "id": "16dc00de",
   "metadata": {},
   "source": [
    "\\begin{align*}\n",
    "\\text{f.) If $a$ is the angle between $\\mathbf{v}$ and $\\mathbf{w}$, find $\\cos a$:} \\\\\n",
    "\\text{Manual Solution:} \\\\\n",
    "\\cos a &= \\frac{\\mathbf{v} \\cdot \\mathbf{w}}{||\\mathbf{v}|| \\cdot ||\\mathbf{w}||} \\\\\n",
    "&= \\frac{5}{\\sqrt{95} \\sqrt{14}} \\\\\n",
    "\\text{Pythonic Solution:} \\\\\n",
    "\\end{align*}\n"
   ]
  },
  {
   "cell_type": "code",
   "execution_count": 100,
   "id": "d0ac86f1",
   "metadata": {},
   "outputs": [
    {
     "name": "stdout",
     "output_type": "stream",
     "text": [
      "f.) If 𝒶 is the angle between v and w, find cos 𝒶:\n",
      "Answer : 0.13710212427677046\n",
      "Answer : 0.13710212427677046\n"
     ]
    }
   ],
   "source": [
    "import numpy as np\n",
    "\n",
    "print(\"f.) If 𝒶 is the angle between v and w, find cos 𝒶:\")\n",
    "\n",
    "v = np.array([5, -2, 1, -7, -4])\n",
    "w = np.array([2, 1, -3, 0, 0])\n",
    "\n",
    "print(\"Answer :\", v.dot(w) / (np.linalg.norm(v)*np.linalg.norm(w)))\n",
    "print(\"Answer :\", 5 / (np.sqrt(95)*np.sqrt(14)))\n"
   ]
  },
  {
   "cell_type": "markdown",
   "id": "1a8e682f",
   "metadata": {},
   "source": [
    "\\begin{align*}\n",
    "\\text{g.) If $B$ is the angle between $\\mathbf{u}$ and $\\mathbf{w}$, find $\\cos B$:} \\\\\n",
    "\\text{Manual Solution:} \\\\\n",
    "\\cos B &= \\frac{\\mathbf{u} \\cdot \\mathbf{w}}{||\\mathbf{u}|| \\cdot ||\\mathbf{w}||} \\\\\n",
    "&= \\frac{-13}{\\sqrt{90} \\sqrt{14}} \\\\\n",
    "\\text{Pythonic Solution:} \\\\\n",
    "\\end{align*}"
   ]
  },
  {
   "cell_type": "code",
   "execution_count": 101,
   "id": "18142722",
   "metadata": {},
   "outputs": [
    {
     "name": "stdout",
     "output_type": "stream",
     "text": [
      "g.) If 𝓑 is the angle between u and v, find cos 𝓑:\n",
      "Answer : -0.3662335103823572\n",
      "Answer : -0.3662335103823572\n"
     ]
    }
   ],
   "source": [
    "import numpy as np\n",
    "\n",
    "print(\"g.) If 𝓑 is the angle between u and v, find cos 𝓑:\")\n",
    "\n",
    "u : np.array([1, -2, 4])\n",
    "w : np.array([2, 1, -3])\n",
    "\n",
    "\n",
    "print(\"Answer :\", u.dot(w) / (np.linalg.norm(u)*np.linalg.norm(w)))\n",
    "print(\"Answer :\", (-13) / (np.sqrt(90)*np.sqrt(14)))\n"
   ]
  },
  {
   "cell_type": "markdown",
   "id": "cd6830e9",
   "metadata": {},
   "source": [
    "\\begin{align*}\n",
    "\\text{h.) Find } d(\\mathbf{u}, \\mathbf{v}):\\\\\n",
    "\\text{Manual Solution:} \\\\\n",
    "&= \\sqrt{(2 - 5)^2 + (-5 - (-2))^2 + (4 - 1)^2 + (6 - (-7))^2 + ((-3) - (-4))^2} \\\\\n",
    "&= \\sqrt{9 + 9 + 9 + 169 + 1} \\\\\n",
    "&= \\sqrt{197} \\\\\n",
    "\\text{Pythonic Solution:} \\\\\n",
    "\\end{align*}"
   ]
  },
  {
   "cell_type": "code",
   "execution_count": 127,
   "id": "05e13d42",
   "metadata": {},
   "outputs": [
    {
     "name": "stdout",
     "output_type": "stream",
     "text": [
      "h.) Find d(u,v):\n",
      "Answer : 14.035668847618199\n",
      "Answer : 14.035668847618199\n"
     ]
    }
   ],
   "source": [
    "import numpy as np\n",
    "\n",
    "print(\"h.) Find d(u,v):\")\n",
    "\n",
    "u = np.array([2, -5, 4, 6, -3])\n",
    "v = np.array([5, -2, 1, -7, -4])\n",
    "\n",
    "print(\"Answer :\", np.linalg.norm(u - v))\n",
    "print(\"Answer :\", np.sqrt(197))"
   ]
  },
  {
   "cell_type": "markdown",
   "id": "a5943756",
   "metadata": {},
   "source": [
    "\\begin{align*}\n",
    "\\text{i.) Find } d(\\mathbf{w}, \\mathbf{v}):\\\\\n",
    "\\text{Manual Solution:} \\\\\n",
    "&= \\sqrt{ (5 - 2)^2 + ((-2) - 1)^2 + (1 - (-3))^2 + ((-7) - 0)^2 + ((-4) - 0)^2} \\\\\n",
    "&= \\sqrt{3^2 + (-3)^2 + 4^2 + (-7)^2 + (-4)^2} \\\\\n",
    "&= \\sqrt{9 + 9 + 16 + 49 + 16} \\\\\n",
    "&= \\sqrt{99} \\\\\n",
    "&= 3\\sqrt{11} \\\\\n",
    "\\text{Pythonic Solution:} \\\\\n",
    "\\end{align*}\n"
   ]
  },
  {
   "cell_type": "code",
   "execution_count": 128,
   "id": "fba5c8d1",
   "metadata": {},
   "outputs": [
    {
     "name": "stdout",
     "output_type": "stream",
     "text": [
      "i.) Find d(w,v):\n",
      "Answer : 9.9498743710662\n",
      "Answer : 9.9498743710662\n"
     ]
    }
   ],
   "source": [
    "import numpy as np\n",
    "\n",
    "print(\"i.) Find d(w,v):\")\n",
    "\n",
    "v = np.array([5, -2, 1, -7, -4])\n",
    "w = np.array([2, 1, -3, 0, 0])\n",
    "\n",
    "print(\"Answer :\", np.linalg.norm(w-v))\n",
    "print(\"Answer :\", np.sqrt(99))"
   ]
  },
  {
   "cell_type": "markdown",
   "id": "76bd431b",
   "metadata": {},
   "source": [
    "\\begin{align*}\n",
    "\\text{j.) Find } d(\\mathbf{u}, \\mathbf{w}):\\\\\n",
    "\\text{Manual Solution:} \\\\\n",
    "d(\\mathbf{u}, \\mathbf{w}) &= \\sqrt{(2 - 2)^2 + ((-5) - 1)^2 + (4 - (-3))^2 + (6 - 0)^2 + ((-3) - 0)^2} \\\\\n",
    "&= \\sqrt{0 + 36 + 49 + 36 + 9} \\\\\n",
    "&= \\sqrt{130} \\\\\n",
    "\\text{Pythonic Solution:} \\\\\n",
    "\\end{align*}"
   ]
  },
  {
   "cell_type": "code",
   "execution_count": 132,
   "id": "c482c19e",
   "metadata": {},
   "outputs": [
    {
     "name": "stdout",
     "output_type": "stream",
     "text": [
      "j.) Find d(u,w):\n",
      "Answer : 11.40175425099138\n",
      "Answer : 11.40175425099138\n"
     ]
    }
   ],
   "source": [
    "import numpy as np\n",
    "\n",
    "print(\"j.) Find d(u,w):\")\n",
    "\n",
    "u = np.array([2, -5, 4, 6, -3])\n",
    "w = np.array([2, 1, -3, 0, 0])\n",
    "\n",
    "print(\"Answer :\", np.linalg.norm(u-w))\n",
    "print(\"Answer :\", np.sqrt(130))"
   ]
  },
  {
   "cell_type": "markdown",
   "id": "fc124d9c",
   "metadata": {},
   "source": [
    "\\begin{align*}\n",
    "\\text{k.) Find } proj(\\mathbf{u}, \\mathbf{v}): \\\\\n",
    "\\text{Manual Solution:} \\\\\n",
    "&= \\frac{\\mathbf{u} \\cdot \\mathbf{v}}{||\\mathbf{v}||^2} \\mathbf{v} \\\\\n",
    "&= \\frac{-6}{95}(5, -2, 1, -7, -4) \\\\\n",
    "&= \\left(\\frac{-6}{19}, \\frac{12}{95}, \\frac{-6}{95} , \\frac{42}{95}, \\frac{24}{95}\\right) \\\\\n",
    "\\text{Pythonic Solution:} \\\\\n",
    "\\end{align*}"
   ]
  },
  {
   "cell_type": "code",
   "execution_count": 134,
   "id": "fefd627c",
   "metadata": {},
   "outputs": [
    {
     "name": "stdout",
     "output_type": "stream",
     "text": [
      "k.) Find proj(u,v):\n",
      "Answer : [-0.31578947  0.12631579 -0.06315789  0.44210526  0.25263158]\n",
      "Answer : [-0.3157894736842105, 0.12631578947368421, -0.06315789473684211, 0.4421052631578947, 0.25263157894736843]\n"
     ]
    }
   ],
   "source": [
    "import numpy as np\n",
    "\n",
    "print(\"k.) Find proj(u,v):\")\n",
    "\n",
    "u = np.array([2, -5, 4, 6, -3])\n",
    "v = np.array([5, -2, 1, -7, -4])\n",
    "\n",
    "print(\"Answer :\", u.dot(v)*v/(np.linalg.norm(v)**2))\n",
    "print(\"Answer :\", [(-6)/19, (12)/95, (-6)/95, 42/95, 24/95])\n"
   ]
  },
  {
   "cell_type": "markdown",
   "id": "b53e2d59",
   "metadata": {},
   "source": [
    "\\begin{align*}\n",
    "\\text{l.) Find } proj(\\mathbf{w}, \\mathbf{v}): \\\\\n",
    "\\text{Manual Solution:} \\\\\n",
    "&= \\frac{\\mathbf{w} \\cdot \\mathbf{v}}{||\\mathbf{v}||^2} \\mathbf{v} \\\\\n",
    "&= \\frac{5}{95}(5, -2, 1, -7, -4) \\\\\n",
    "&= \\left(\\frac{5}{19}, \\frac{-2}{19}, \\frac{5}{95}, \\frac{-7}{19}, \\frac{-4}{19}\\right) \\\\\n",
    "\\text{Pythonic Solution:} \\\\\n",
    "\\end{align*}"
   ]
  },
  {
   "cell_type": "code",
   "execution_count": 140,
   "id": "ce2149c0",
   "metadata": {},
   "outputs": [
    {
     "name": "stdout",
     "output_type": "stream",
     "text": [
      "l.) Find proj(w,v):\n",
      "Answer : [ 0.26315789 -0.10526316  0.05263158 -0.36842105 -0.21052632]\n",
      "Answer : [0.2631578947368421, -0.10526315789473684, 0.05263157894736842, -0.3684210526315789, -0.21052631578947367]\n"
     ]
    }
   ],
   "source": [
    "import numpy as np\n",
    "\n",
    "print(\"l.) Find proj(w,v):\")\n",
    "\n",
    "w = np.array([2, 1, -3, 0, 0])\n",
    "v = np.array([5, -2, 1, -7, -4])\n",
    "\n",
    "print(\"Answer :\", w.dot(v) * v / (np.linalg.norm(v) ** 2))\n",
    "print(\"Answer :\", [5/19, (-2)/19, 5/95, (-7)/19, (-4)/19])"
   ]
  },
  {
   "cell_type": "markdown",
   "id": "29cb0c85",
   "metadata": {},
   "source": [
    "\\begin{align*}\n",
    "\\text{m.) Find } \\text{proj}(\\mathbf{u}, \\mathbf{w}): \\\\\n",
    "\\text{Manual Solution:} \\\\\n",
    "&= \\frac{\\mathbf{u} \\cdot \\mathbf{w}}{\\|\\mathbf{w}\\|^2} \\mathbf{w} \\\\\n",
    "&= \\frac{-13}{14}(2, 1, -3, 0, 0) \\\\\n",
    "&= \\left(\\frac{-13}{7}, \\frac{-13}{14}, \\frac{39}{14}, 0, 0\\right) \\\\\n",
    "\\text{Pythonic Solution:} \\\\\n",
    "\\end{align*}\n"
   ]
  },
  {
   "cell_type": "code",
   "execution_count": 138,
   "id": "11e4f13c",
   "metadata": {},
   "outputs": [
    {
     "name": "stdout",
     "output_type": "stream",
     "text": [
      "m.) Find proj(u,w):\n",
      "Answer : [-1.85714286 -0.92857143  2.78571429  0.          0.        ]\n",
      "proj(u, w) =  [-1.8571428571428572, -0.9285714285714286, 2.7857142857142856, 0, 0]\n"
     ]
    }
   ],
   "source": [
    "import numpy as np\n",
    "\n",
    "print(\"m.) Find proj(u,w):\")\n",
    "\n",
    "u = np.array([2, -5, 4, 6, -3])\n",
    "w = np.array([2, 1, -3, 0, 0])\n",
    "\n",
    "print(\"Answer :\", u.dot(w)*w/(np.linalg.norm(w)**2))\n",
    "print(\"Answer :\", [(-13)/7, (-13)/14, 39/14, 0, 0])\n"
   ]
  },
  {
   "cell_type": "markdown",
   "id": "612bc50f",
   "metadata": {},
   "source": [
    "$4. \\text{Normalize each vector:}$"
   ]
  },
  {
   "cell_type": "markdown",
   "id": "3795b52e",
   "metadata": {},
   "source": [
    "\\begin{align*}\n",
    "\\text{a.) } \\mathbf{u} &= (5, -7) \\\\\n",
    "\\text{Manual Solution:} \\\\\n",
    "&= \\frac{\\mathbf{u}}{\\|\\mathbf{u}\\|} \\\\ \n",
    "&= \\frac{(5, -7)}{\\sqrt{5^2 + (-7)^2}} \\\\\n",
    "&= \\left(\\frac{5}{\\sqrt{74}}, \\frac{-7}{\\sqrt{74}}\\right) \\\\ \n",
    "\\text{Pythonic Solution:} \\\\\n",
    "\\end{align*}\n"
   ]
  },
  {
   "cell_type": "markdown",
   "id": "98cba70c",
   "metadata": {},
   "source": []
  },
  {
   "cell_type": "code",
   "execution_count": 141,
   "id": "83c0bec2",
   "metadata": {},
   "outputs": [
    {
     "name": "stdout",
     "output_type": "stream",
     "text": [
      "a.) u = (5, -7)\n",
      "Answer for u' : [ 0.58123819 -0.81373347]\n"
     ]
    }
   ],
   "source": [
    "import numpy as np\n",
    "\n",
    "u = np.array([5, -7])\n",
    "\n",
    "print(\"a.) u = (5, -7)\")\n",
    "print(\"Answer for u' :\", u/np.sqrt(u.dot(u)))"
   ]
  },
  {
   "cell_type": "markdown",
   "id": "8af485ad",
   "metadata": {},
   "source": [
    "\n",
    "\\begin{align*}\n",
    "b.) \\mathbf{v} &= (1, 2, -2, 4) \\\\\n",
    "\\text{Manual Solution:} \\\\\n",
    "&= \\frac{\\mathbf{v}}{\\|\\mathbf{v}\\|} \\\\\n",
    "&= \\frac{(1, 2, -2, 4)}{\\sqrt{1^2 + 2^2 + (-2)^2 + 4^2}} \\\\\n",
    "&= \\frac{(1, 2, -2, 4)}{\\sqrt{25}} \\\\\n",
    "&= \\left(\\frac{1}{5}, \\frac{2}{5}, \\frac{-2}{5}, \\frac{4}{5}\\right) \\\\\n",
    "\\text{Pythonic Solution:} \\\\\n",
    "\\end{align*}\n"
   ]
  },
  {
   "cell_type": "code",
   "execution_count": 109,
   "id": "65b7c6d6",
   "metadata": {},
   "outputs": [
    {
     "name": "stdout",
     "output_type": "stream",
     "text": [
      "b.) v = (1, 2, -2, 4)\n",
      "Answer for v' : [ 0.2  0.4 -0.4  0.8]\n"
     ]
    }
   ],
   "source": [
    "import numpy as np\n",
    "\n",
    "v = np.array([1,2,-2,4])\n",
    "\n",
    "print(\"b.) v = (1, 2, -2, 4)\")\n",
    "print(\"Answer for v' :\", v/np.sqrt(v.dot(v)))"
   ]
  },
  {
   "cell_type": "markdown",
   "id": "76a0efb9",
   "metadata": {},
   "source": [
    "\\begin{align*}\n",
    "c.)\\mathbf{w} &= \\left(\\frac{1}{2}, -\\frac{1}{3}, \\frac{3}{4}\\right) \\\\\n",
    "\\text{Manual Solution:} \\\\\n",
    "&= \\frac{\\mathbf{v}}{\\|\\mathbf{v}\\|} \\\\\n",
    "&= \\frac{\\left(\\frac{1}{2}, -\\frac{1}{3}, \\frac{3}{4}\\right)}{\\sqrt{\\left(\\frac{1}{2}\\right)^2 + \\left(\\frac{-1}{3}\\right)^2 + \\left(\\frac{3}{4}\\right)^2}} \\\\\n",
    "&= \\frac{\\left(\\frac{1}{2}, -\\frac{1}{3}, \\frac{3}{4}\\right)}{\\frac{\\sqrt{133}}{12}} \\\\\n",
    "\\text{Pythonic Solution:} \\\\\n",
    "\\end{align*}\n"
   ]
  },
  {
   "cell_type": "code",
   "execution_count": 32,
   "id": "be4b7571",
   "metadata": {},
   "outputs": [
    {
     "name": "stdout",
     "output_type": "stream",
     "text": [
      "c.)w = (1/2,-1/3,3/4)\n",
      "Answer for w':  [ 0.52026598 -0.34684399  0.78039897]\n"
     ]
    }
   ],
   "source": [
    "import numpy as np\n",
    "\n",
    "w = np.array([1/2,-1/3,3/4])\n",
    "\n",
    "print(\"c.)w = (1/2,-1/3,3/4)\")\n",
    "print(\"Answer for w': \", w/np.sqrt(w.dot(w)))"
   ]
  },
  {
   "cell_type": "markdown",
   "id": "f811a69a",
   "metadata": {},
   "source": [
    "$5. \\text{Let u = (1, 2, -2), v = (3, -12, 4) and a scalar k = -3:}$"
   ]
  },
  {
   "cell_type": "markdown",
   "id": "9fc694d0",
   "metadata": {},
   "source": [
    "\\begin{align*}\n",
    "\\text{a.) Find u = } (5, -7):\\\\\n",
    "\\text{Manual Solution:} \\\\\n",
    "||u|| &= \\sqrt{1^2 + 2^2 + (-2)^2} \\\\\n",
    "&= \\sqrt{9} \\\\\n",
    "||v|| &= \\sqrt{3^2 + (-12)^2 + 4^2} \\\\\n",
    "&= \\sqrt{169} \\\\\n",
    "||u + v|| &= \\sqrt{(1 + 3)^2 + (2 + (-12))^2 + ((-2) + 4)^2} \\\\\n",
    "&= \\sqrt{120} \\\\\n",
    "||ku|| &= \\sqrt{((-3)(1))^2 + ((-3)(2))^2 + ((-3)(-2))^2} \\\\\n",
    "&= \\sqrt{81} \\\\\n",
    "\\text{Pythonic Solution:} \\\\\n",
    "\\end{align*}"
   ]
  },
  {
   "cell_type": "code",
   "execution_count": 111,
   "id": "db867c87",
   "metadata": {},
   "outputs": [
    {
     "name": "stdout",
     "output_type": "stream",
     "text": [
      "Find ||u||, ||v||, ||u + v||, ||ku||\n",
      "Answer for ||u|| : 3.0\n",
      "Answer for ||u|| : 3.0\n",
      "Answer for ||v|| : 13.0\n",
      "Answer for ||v|| : 13.0\n",
      "Answer for ||u + v|| : 10.954451150103322\n",
      "Answer for ||u + v|| : 10.954451150103322\n",
      "Answer for ||ku|| : 9.0\n",
      "Answer for ||ku|| : 9.0\n"
     ]
    }
   ],
   "source": [
    "import numpy as np\n",
    "\n",
    "u = np.array([1,2,-2])\n",
    "v = np.array([3,-12,4])\n",
    "k = -3\n",
    "\n",
    "print(\"Find ||u||, ||v||, ||u + v||, ||ku||\")\n",
    "print(\"Answer for ||u|| :\", np.sqrt(u.dot(u)))\n",
    "print(\"Answer for ||u|| :\", np.sqrt(9))\n",
    "print(\"Answer for ||v|| :\", np.sqrt(v.dot(v)))\n",
    "print(\"Answer for ||v|| :\", np.sqrt(169))\n",
    "print(\"Answer for ||u + v|| :\", np.linalg.norm(u + v))\n",
    "print(\"Answer for ||u + v|| :\", np.sqrt(120))\n",
    "print(\"Answer for ||ku|| :\", np.linalg.norm(k * u))\n",
    "print(\"Answer for ||ku|| :\", np.sqrt(81))"
   ]
  },
  {
   "cell_type": "markdown",
   "id": "9b6ffca1",
   "metadata": {},
   "source": [
    "$6. \\text{Find k so that u and v are orthogonal.}$"
   ]
  },
  {
   "cell_type": "markdown",
   "id": "70826cc0",
   "metadata": {},
   "source": [
    "\\begin{align*}\n",
    "\\text{a.) } \\mathbf{u} = (3, k, -2), \\mathbf{v} = (6, -4, -3) \\\\\n",
    "\\text{Manual Solution:} \\\\\n",
    "\\mathbf{u} \\cdot \\mathbf{v} &= (3)(k) + (k)(-4) + (-2)(-3) \\\\\n",
    "\\mathbf{u} \\cdot \\mathbf{v} &= 3k - 4k + 6 \\\\\n",
    "\\mathbf{u} \\cdot \\mathbf{v} &= -k + 6 \\\\\n",
    "-k + 6 &= 0 \\\\\n",
    "\\frac{-k}{-1} &= \\frac{-6}{-1} \\\\\n",
    "k &= 6 \\\\\n",
    "\\text{Pythonic Solution:} \\\\\n",
    "\\end{align*}"
   ]
  },
  {
   "cell_type": "code",
   "execution_count": 112,
   "id": "baafef78",
   "metadata": {},
   "outputs": [
    {
     "name": "stdout",
     "output_type": "stream",
     "text": [
      "a.) u = (3, k, -2), v = (6,-4,-3)\n",
      "Vectors u and v are orthogonal.\n",
      "Value of k: 6\n"
     ]
    }
   ],
   "source": [
    "import numpy as np\n",
    "\n",
    "k = 6\n",
    "u = np.array([3, k, -2])\n",
    "v = np.array([k, -4, -3])\n",
    "\n",
    "print(\"a.) u = (3, k, -2), v = (6,-4,-3)\") \n",
    "\n",
    "dot_product = sum(ui * vi for ui, vi in zip(u, v))\n",
    "\n",
    "print(\"Vectors u and v are orthogonal.\")\n",
    "print(\"Value of k:\", k)"
   ]
  },
  {
   "cell_type": "markdown",
   "id": "8c15a13f",
   "metadata": {},
   "source": [
    "\\begin{align*}\n",
    "\\text{b.) } \\mathbf{u} = (5, k, -4, 2), \\mathbf{v} = (1, -3, 2, 2k) \\\\\n",
    "\\text{Manual Solution:} \\\\\n",
    "(5)(1) + (k)(-3) + (-4)(2) + (2)(2k) &= 0\\\\\n",
    "5 - 3k - 8 + 4k &= 0\\\\\n",
    "5 - 8 +  &= 0\\\\\n",
    "k - 3 &= 0\\\\\n",
    "k - (3 + 3) &= 0 + 3\\\\\n",
    "k &= 3 \\\\\n",
    "\\text{Pythonic Solution:} \\\\\n",
    "\\end{align*}"
   ]
  },
  {
   "cell_type": "code",
   "execution_count": 26,
   "id": "64440f54",
   "metadata": {},
   "outputs": [
    {
     "name": "stdout",
     "output_type": "stream",
     "text": [
      "b.) u = (5, k, -4, 2), v = (1, -3, 2, 2k)\n",
      "Vectors u and v are orthogonal.\n",
      "Value of k: 3\n"
     ]
    }
   ],
   "source": [
    "import numpy as np\n",
    "\n",
    "k = 3\n",
    "u = np.array([5, k, -4, 2])\n",
    "v = np.array([1, -3, 2, 2 * k])\n",
    "\n",
    "print(\"b.) u = (5, k, -4, 2), v = (1, -3, 2, 2k)\") \n",
    "\n",
    "dot_product = np.dot(u, v)\n",
    "\n",
    "print(\"Vectors u and v are orthogonal.\")\n",
    "print(\"Value of k:\", k)\n",
    "\n"
   ]
  },
  {
   "cell_type": "markdown",
   "id": "ae363abf",
   "metadata": {},
   "source": [
    "\\begin{align*}\n",
    "\\text{b.) } \\mathbf{u} = (1, 7, k+2, -2), \\mathbf{v} = (3, k, -3, k) \\\\\n",
    "\\text{Manual Solution:} \\\\\n",
    "1 * 3 + 7 * k + ( k + 2 ) * (−3) + (−2) * k &= 0 \\\\\n",
    "3 + 7k − 3k − 6 − 2k &= 0 \\\\\n",
    "2k − 3 &= 0 \\\\\n",
    "\\frac{2k}{2} &= \\frac{3}{2} \\\\\n",
    "k = 1.5 \\\\\n",
    "\\text{Pythonic Solution:} \\\\\n",
    "\\end{align*}"
   ]
  },
  {
   "cell_type": "code",
   "execution_count": 31,
   "id": "ae074415",
   "metadata": {},
   "outputs": [
    {
     "name": "stdout",
     "output_type": "stream",
     "text": [
      "c.) u = (1, 7, k + 2, -2), v = (3, k, -3, k)\n",
      "Vectors u and v are orthogonal.\n",
      "Value of k: 1.5\n"
     ]
    }
   ],
   "source": [
    "import numpy as np\n",
    "\n",
    "k = 3/2\n",
    "u = np.array([1, 7, k + 2, -2])\n",
    "v = np.array([3, k, -3, k])\n",
    "\n",
    "print(\"c.) u = (1, 7, k + 2, -2), v = (3, k, -3, k)\") \n",
    "\n",
    "dot_product = np.dot(u, v)\n",
    "\n",
    "print(\"Vectors u and v are orthogonal.\")\n",
    "print(\"Value of k:\", k)"
   ]
  }
 ],
 "metadata": {
  "kernelspec": {
   "display_name": "Python 3",
   "language": "python",
   "name": "python3"
  },
  "language_info": {
   "codemirror_mode": {
    "name": "ipython",
    "version": 3
   },
   "file_extension": ".py",
   "mimetype": "text/x-python",
   "name": "python",
   "nbconvert_exporter": "python",
   "pygments_lexer": "ipython3",
   "version": "3.11.5"
  }
 },
 "nbformat": 4,
 "nbformat_minor": 5
}
