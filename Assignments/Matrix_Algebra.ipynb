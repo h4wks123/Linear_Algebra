{
 "cells": [
  {
   "cell_type": "markdown",
   "metadata": {},
   "source": [
    "# <font color=red> CODE CHALLENGES </font>\n",
    "---\n",
    "### Instruction\n",
    "1. Push your solutions to your github account.\n",
    "3. Deadline is before finals.\n",
    "---\n",
    "1. Without the use of any python libraries or modules, develop a function that can perform matrix addition, given two numpy matrices.\n",
    "2. Without the use of any python libraries or modules, develop a function that can multiply two numpy matrices.\n",
    "3. The rule of distributivity states that given two matrices $A$ and $B$ and a scalar, $k$, then $k(A+B)=kA+kB$. Instead of writing a proof mathematically, develop two codes for $k(A+B)$ and $kA+kB$.\n",
    "4. Without using a python library or modules develop a function that can extract the diagonal of a numpy matrix.\n",
    "5. Without using a python library or modules develop a function that can find a trace of a numpy matrix."
   ]
  },
  {
   "cell_type": "markdown",
   "metadata": {},
   "source": [
    "# <font color=red> Assignment 3 </font>\n",
    "---\n",
    "Instructions\n",
    "1. Write your solution in latex.\n",
    "2. Push your solutions to your github account.\n",
    "3. Deadline is before finals.\n",
    "---"
   ]
  },
  {
   "cell_type": "markdown",
   "metadata": {},
   "source": [
    "1. Solve $X$ given that:\n",
    "\\begin{equation}\n",
    "A =\n",
    "\\begin{bmatrix}\n",
    "1 & 2 \\\\\n",
    "3 & 4 \\\\\n",
    "\\end{bmatrix},\n",
    "B =\n",
    "\\begin{bmatrix}\n",
    "-1 & 0 \\\\\n",
    "1 & 1 \\\\\n",
    "\\end{bmatrix}\n",
    "\\end{equation}\n",
    "- $3X = A-2B$\n",
    "- $2(A-B+2X) = 3(X-B)$\n",
    "<br>"
   ]
  },
  {
   "cell_type": "markdown",
   "metadata": {},
   "source": [
    "2. Write $B$ as a linear combination of the other matrices, if possible.\n",
    "- \n",
    "\\begin{equation}\n",
    "A_1 =\n",
    "\\begin{bmatrix}\n",
    "1 & 2 \\\\\n",
    "-1 & 1 \\\\\n",
    "\\end{bmatrix},\n",
    "A_2 =\n",
    "\\begin{bmatrix}\n",
    "0 & 1 \\\\\n",
    "2 & 1 \\\\\n",
    "\\end{bmatrix},\n",
    "B =\n",
    "\\begin{bmatrix}\n",
    "2 & 5 \\\\\n",
    "0 & 3 \\\\\n",
    "\\end{bmatrix}\n",
    "\\end{equation}\n",
    "<br><br>\n",
    "- \n",
    "\\begin{equation}\n",
    "A_1 =\n",
    "\\begin{bmatrix}\n",
    "1 & 0 \\\\\n",
    "0 & 1 \\\\\n",
    "\\end{bmatrix},\n",
    "A_2 =\n",
    "\\begin{bmatrix}\n",
    "0 & 1 \\\\\n",
    "1 & 0 \\\\\n",
    "\\end{bmatrix},\n",
    "A_3 =\n",
    "\\begin{bmatrix}\n",
    "1 & -1 \\\\\n",
    "1 & 1 \\\\\n",
    "\\end{bmatrix},\n",
    "B =\n",
    "\\begin{bmatrix}\n",
    "2 & 5 \\\\\n",
    "0 & 3 \\\\\n",
    "\\end{bmatrix}\n",
    "\\end{equation}\n",
    "<br>\n",
    "<br>"
   ]
  }
 ],
 "metadata": {
  "language_info": {
   "name": "python"
  }
 },
 "nbformat": 4,
 "nbformat_minor": 2
}
