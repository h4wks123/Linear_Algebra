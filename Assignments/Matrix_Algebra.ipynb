{
 "cells": [
  {
   "cell_type": "markdown",
   "metadata": {},
   "source": [
    "**Name:** Ivanne Dave L. Bayer <br>\n",
    "**Date:** December 2023 <br>\n",
    "**Course:** Discrete Structure III <br>"
   ]
  },
  {
   "cell_type": "markdown",
   "metadata": {},
   "source": [
    "---"
   ]
  },
  {
   "cell_type": "markdown",
   "metadata": {},
   "source": [
    "# <font color=red> CODE CHALLENGES </font>\n",
    "---\n",
    "### Instruction\n",
    "1. Push your solutions to your github account.\n",
    "3. Deadline is before finals.\n",
    "---\n",
    "1. Without the use of any python libraries or modules, develop a function that can perform matrix addition, given two numpy matrices."
   ]
  },
  {
   "cell_type": "code",
   "execution_count": 1,
   "metadata": {},
   "outputs": [
    {
     "name": "stdout",
     "output_type": "stream",
     "text": [
      "[10, 10, 10]\n",
      "[10, 10, 10]\n",
      "[10, 10, 10]\n"
     ]
    }
   ],
   "source": [
    "def matrix_addition(matrix_a, matrix_b):\n",
    "    # Check if the matrices have the same dimensions\n",
    "    if len(matrix_a) != len(matrix_b) or len(matrix_a[0]) != len(matrix_b[0]):\n",
    "        raise ValueError(\"Matrices must have the same dimensions for addition\")\n",
    "\n",
    "    # Initialize an empty matrix for the result\n",
    "    result = []\n",
    "\n",
    "    # Iterate through rows and columns, adding corresponding elements\n",
    "    for i in range(len(matrix_a)):\n",
    "        row = []\n",
    "        for j in range(len(matrix_a[0])):\n",
    "            row.append(matrix_a[i][j] + matrix_b[i][j])\n",
    "        result.append(row)\n",
    "\n",
    "    return result\n",
    "\n",
    "# Example usage:\n",
    "matrix_a = [\n",
    "    [1, 2, 3],\n",
    "    [4, 5, 6],\n",
    "    [7, 8, 9]\n",
    "]\n",
    "\n",
    "matrix_b = [\n",
    "    [9, 8, 7],\n",
    "    [6, 5, 4],\n",
    "    [3, 2, 1]\n",
    "]\n",
    "\n",
    "result_matrix = matrix_addition(matrix_a, matrix_b)\n",
    "for row in result_matrix:\n",
    "    print(row)"
   ]
  },
  {
   "cell_type": "markdown",
   "metadata": {},
   "source": [
    "2. Without the use of any python libraries or modules, develop a function that can multiply two numpy matrices."
   ]
  },
  {
   "cell_type": "code",
   "execution_count": 2,
   "metadata": {},
   "outputs": [
    {
     "name": "stdout",
     "output_type": "stream",
     "text": [
      "[58, 64]\n",
      "[139, 154]\n"
     ]
    }
   ],
   "source": [
    "def matrix_multiply(mat1, mat2):\n",
    "    # Check if the matrices can be multiplied\n",
    "    if len(mat1[0]) != len(mat2):\n",
    "        raise ValueError(\"Number of columns in the first matrix must be equal to the number of rows in the second matrix.\")\n",
    "\n",
    "    # Get dimensions of the matrices\n",
    "    rows_mat1 = len(mat1)\n",
    "    cols_mat1 = len(mat1[0])\n",
    "    cols_mat2 = len(mat2[0])\n",
    "\n",
    "    # Initialize result matrix with zeros\n",
    "    result = [[0 for _ in range(cols_mat2)] for _ in range(rows_mat1)]\n",
    "\n",
    "    # Perform matrix multiplication\n",
    "    for i in range(rows_mat1):\n",
    "        for j in range(cols_mat2):\n",
    "            for k in range(cols_mat1):\n",
    "                result[i][j] += mat1[i][k] * mat2[k][j]\n",
    "\n",
    "    return result\n",
    "\n",
    "# Example usage:\n",
    "matrix1 = [[1, 2, 3], [4, 5, 6]]\n",
    "matrix2 = [[7, 8], [9, 10], [11, 12]]\n",
    "\n",
    "result_matrix = matrix_multiply(matrix1, matrix2)\n",
    "for row in result_matrix:\n",
    "    print(row)"
   ]
  },
  {
   "cell_type": "markdown",
   "metadata": {},
   "source": [
    "3. The rule of distributivity states that given two matrices $A$ and $B$ and a scalar, $k$, then $k(A+B)=kA+kB$. Instead of writing a proof mathematically, develop two codes for $k(A+B)$ and $kA+kB$."
   ]
  },
  {
   "cell_type": "code",
   "execution_count": 3,
   "metadata": {},
   "outputs": [
    {
     "name": "stdout",
     "output_type": "stream",
     "text": [
      "k(A + B):\n",
      "[[12 16]\n",
      " [20 24]]\n",
      "\n",
      "kA + kB:\n",
      "[[12 16]\n",
      " [20 24]]\n"
     ]
    }
   ],
   "source": [
    "import numpy as np\n",
    "\n",
    "# Define matrices A and B\n",
    "A = np.array([[1, 2], [3, 4]])\n",
    "B = np.array([[5, 6], [7, 8]])\n",
    "\n",
    "# Define scalar k\n",
    "k = 2\n",
    "\n",
    "# Calculate k(A + B)\n",
    "result1 = k * (A + B)\n",
    "\n",
    "# Calculate kA + kB\n",
    "result2 = k * A + k * B\n",
    "\n",
    "# Print the results\n",
    "print(\"k(A + B):\")\n",
    "print(result1)\n",
    "\n",
    "print(\"\\nkA + kB:\")\n",
    "print(result2)"
   ]
  },
  {
   "cell_type": "markdown",
   "metadata": {},
   "source": [
    "4. Without using a python library or modules develop a function that can extract the diagonal of a numpy matrix."
   ]
  },
  {
   "cell_type": "code",
   "execution_count": 4,
   "metadata": {},
   "outputs": [
    {
     "name": "stdout",
     "output_type": "stream",
     "text": [
      "[1, 5, 9]\n"
     ]
    }
   ],
   "source": [
    "def extract_diagonal(matrix):\n",
    "    \"\"\"\n",
    "    Extracts the diagonal elements of a matrix.\n",
    "\n",
    "    Parameters:\n",
    "    - matrix: A 2D list representing the matrix.\n",
    "\n",
    "    Returns:\n",
    "    - diagonal: A list containing the diagonal elements of the matrix.\n",
    "    \"\"\"\n",
    "    diagonal = []\n",
    "    rows = len(matrix)\n",
    "    cols = len(matrix[0]) if matrix else 0\n",
    "\n",
    "    # Check if the matrix is square\n",
    "    if rows != cols:\n",
    "        raise ValueError(\"Input matrix must be square.\")\n",
    "\n",
    "    for i in range(rows):\n",
    "        for j in range(cols):\n",
    "            if i == j:\n",
    "                diagonal.append(matrix[i][j])\n",
    "\n",
    "    return diagonal\n",
    "\n",
    "# Example usage:\n",
    "matrix = [\n",
    "    [1, 2, 3],\n",
    "    [4, 5, 6],\n",
    "    [7, 8, 9]\n",
    "]\n",
    "\n",
    "result = extract_diagonal(matrix)\n",
    "print(result)"
   ]
  },
  {
   "cell_type": "markdown",
   "metadata": {},
   "source": [
    "5. Without using a python library or modules develop a function that can find a trace of a numpy matrix."
   ]
  },
  {
   "cell_type": "code",
   "execution_count": 5,
   "metadata": {},
   "outputs": [
    {
     "name": "stdout",
     "output_type": "stream",
     "text": [
      "Trace of the matrix: 15\n"
     ]
    }
   ],
   "source": [
    "def matrix_trace(matrix):\n",
    "    # Check if the matrix is square\n",
    "    rows, cols = len(matrix), len(matrix[0])\n",
    "    if rows != cols:\n",
    "        raise ValueError(\"Input matrix must be square for trace calculation\")\n",
    "\n",
    "    # Calculate the trace\n",
    "    trace = 0\n",
    "    for i in range(rows):\n",
    "        trace += matrix[i][i]\n",
    "\n",
    "    return trace\n",
    "\n",
    "# Example usage:\n",
    "matrix = [\n",
    "    [1, 2, 3],\n",
    "    [4, 5, 6],\n",
    "    [7, 8, 9]\n",
    "]\n",
    "\n",
    "result = matrix_trace(matrix)\n",
    "print(\"Trace of the matrix:\", result)"
   ]
  },
  {
   "cell_type": "markdown",
   "metadata": {},
   "source": [
    "---\n",
    "# <font color=red> Assignment 3 </font>\n",
    "---\n",
    "Instructions\n",
    "1. Write your solution in latex.\n",
    "2. Push your solutions to your github account.\n",
    "3. Deadline is before finals.\n",
    "---"
   ]
  },
  {
   "cell_type": "markdown",
   "metadata": {},
   "source": [
    "1. Solve X given that:\n",
    "$\n",
    "\\begin{equation}\n",
    "    A =\n",
    "    \\begin{bmatrix}\n",
    "    1 & 2 \\\\\n",
    "    3 & 4 \\\\\n",
    "    \\end{bmatrix},\n",
    "    B =\n",
    "    \\begin{bmatrix}\n",
    "    -1 & 0 \\\\\n",
    "    1 & 1 \\\\\n",
    "    \\end{bmatrix}\n",
    "\\end{equation}\n",
    "$\n",
    "<br>"
   ]
  },
  {
   "cell_type": "markdown",
   "metadata": {},
   "source": [
    "- $3X = A-2B$\n",
    "    - Multiply $B$ by 2\n",
    "    $\n",
    "     \\begin{equation}\n",
    "     2\n",
    "        \\begin{bmatrix}\n",
    "            -1 & 0\\\\\n",
    "            1 & 1\\\\\n",
    "        \\end{bmatrix}\n",
    "        \\xrightarrow[]{}\n",
    "        \\begin{bmatrix}\n",
    "            -2 & 0\\\\\n",
    "            2 & 2\\\\\n",
    "        \\end{bmatrix}\n",
    "    \\end{equation}\n",
    "    $ \n",
    "    - Subtract 2 $B$ from $A$\n",
    "     \\begin{equation}\n",
    "        \\begin{bmatrix}\n",
    "            1 & 2\\\\\n",
    "            3 & 4\\\\\n",
    "        \\end{bmatrix}\n",
    "        -2 \n",
    "        \\begin{bmatrix}\n",
    "            -2 & 0\\\\\n",
    "            2 & 2\\\\\n",
    "        \\end{bmatrix}\n",
    "        \\xrightarrow[]{}\n",
    "        \\begin{bmatrix}\n",
    "            3 & 2\\\\\n",
    "            1 & 2\\\\\n",
    "        \\end{bmatrix}\n",
    "    \\end{equation}\n",
    "    - Divide the result by 3 to isolate $X$\n",
    "     \\begin{equation}\n",
    "        \\frac{1}{3}\n",
    "        \\begin{bmatrix}\n",
    "            3 & 2\\\\\n",
    "            1 & 2\\\\\n",
    "        \\end{bmatrix}\n",
    "        \\xrightarrow[]{}     \n",
    "        \\begin{bmatrix}\n",
    "            1 & \\frac{2}{3}\\\\\n",
    "            \\frac{1}{3} & \\frac{2}{3}\\\\\n",
    "        \\end{bmatrix}\n",
    "    \\end{equation}"
   ]
  },
  {
   "cell_type": "code",
   "execution_count": 5,
   "metadata": {},
   "outputs": [
    {
     "name": "stdout",
     "output_type": "stream",
     "text": [
      "Matrix X:\n",
      "[[1.         0.66666667]\n",
      " [0.33333333 0.66666667]]\n"
     ]
    }
   ],
   "source": [
    "import numpy as np\n",
    "\n",
    "# Define matrices A and B\n",
    "A = np.array([[1, 2], [3, 4]])\n",
    "B = np.array([[-1, 0], [1, 1]])\n",
    "\n",
    "# Calculate 2B\n",
    "two_B = 2 * B\n",
    "\n",
    "# Calculate A - 2B\n",
    "result = A - two_B\n",
    "\n",
    "# Solve for X by dividing the result by 3\n",
    "X = result / 3\n",
    "\n",
    "# Print the result\n",
    "print(\"Matrix X:\")\n",
    "print(X)"
   ]
  },
  {
   "cell_type": "markdown",
   "metadata": {},
   "source": [
    "- $2(A-B+2X) = 3(X-B)$\n",
    "    - Distribute the scalar values \n",
    "    <br>\n",
    "    $2A - 2B + 4X = 3X - 3B$\n",
    "    - Combine like terms\n",
    "    <br>\n",
    "    $2A + B = X$\n",
    "    - Now we can substitute the given matrices $A$ and $B$ to find $X$\n",
    "     \\begin{equation}\n",
    "        X\n",
    "        \\xrightarrow[]{}\n",
    "        2A + B\n",
    "        \\xrightarrow[]{}\n",
    "        2\n",
    "        \\begin{bmatrix}\n",
    "            1 & 2\\\\\n",
    "            3 & 4\\\\\n",
    "        \\end{bmatrix}\n",
    "        +\n",
    "        \\begin{bmatrix}\n",
    "            -1 & 0\\\\\n",
    "            1 & 1\\\\\n",
    "        \\end{bmatrix}\n",
    "    \\end{equation}\n",
    "    - Perform the matrix multiplication and addition\n",
    "     \\begin{equation}\n",
    "        X\n",
    "        \\xrightarrow[]{}\n",
    "        \\begin{bmatrix}\n",
    "            2 & 4\\\\\n",
    "            6 & 8\\\\\n",
    "        \\end{bmatrix}\n",
    "        +    \n",
    "        \\begin{bmatrix}\n",
    "            -1 & 0\\\\\n",
    "            1 & 1\\\\\n",
    "        \\end{bmatrix}\n",
    "        \\xrightarrow[]{}\n",
    "        \\begin{bmatrix}\n",
    "            1 & 4\\\\\n",
    "            7 & 9\\\\\n",
    "        \\end{bmatrix}\n",
    "    \\end{equation}"
   ]
  },
  {
   "cell_type": "code",
   "execution_count": 8,
   "metadata": {},
   "outputs": [
    {
     "name": "stdout",
     "output_type": "stream",
     "text": [
      "X:\n",
      "[[1 4]\n",
      " [7 9]]\n"
     ]
    }
   ],
   "source": [
    "import numpy as np\n",
    "\n",
    "# Define matrices A and B\n",
    "A = np.array([[1, 2], [3, 4]])\n",
    "B = np.array([[-1, 0], [1, 1]])\n",
    "\n",
    "# Calculate X\n",
    "X = 2 * A + B\n",
    "\n",
    "# Print the result\n",
    "print(\"X:\")\n",
    "print(X)"
   ]
  },
  {
   "cell_type": "markdown",
   "metadata": {},
   "source": [
    "---"
   ]
  },
  {
   "cell_type": "markdown",
   "metadata": {},
   "source": [
    "2. Write B as a linear combination of the other matrices, if possible.\n",
    "$ \n",
    "\\begin{equation}\n",
    "A_1 =\n",
    "\\begin{bmatrix}\n",
    "1 & 2 \\\\\n",
    "-1 & 1 \\\\\n",
    "\\end{bmatrix},\n",
    "A_2 =\n",
    "\\begin{bmatrix}\n",
    "0 & 1 \\\\\n",
    "2 & 1 \\\\\n",
    "\\end{bmatrix},\n",
    "B =\n",
    "\\begin{bmatrix}\n",
    "2 & 5 \\\\\n",
    "0 & 3 \\\\\n",
    "\\end{bmatrix}\n",
    "\\end{equation}\n",
    "$"
   ]
  },
  {
   "cell_type": "code",
   "execution_count": 14,
   "metadata": {},
   "outputs": [
    {
     "name": "stdout",
     "output_type": "stream",
     "text": [
      "Coefficients (x, y): (-1.3333333333333335, 1.6666666666666667)\n",
      "Linear Combination of A1 and A2 to obtain B:\n",
      "[[-1.33333333 -1.        ]\n",
      " [ 4.66666667  0.33333333]]\n"
     ]
    }
   ],
   "source": [
    "import numpy as np\n",
    "\n",
    "# Define matrices A1, A2, and B\n",
    "A1 = np.array([[1, 2], [-1, 1]])\n",
    "A2 = np.array([[0, 1], [2, 1]])\n",
    "B = np.array([[2, 5], [0, 3]])\n",
    "\n",
    "# Set up the system of equations\n",
    "coefficients_matrix = np.array([[1, 2], [-1, 1]])\n",
    "coefficients_vector = np.array([2, 3])\n",
    "\n",
    "# Solve the system of equations\n",
    "solution = np.linalg.solve(coefficients_matrix, coefficients_vector)\n",
    "\n",
    "# Extract coefficients x and y\n",
    "x, y = solution\n",
    "\n",
    "# Express B as a linear combination of A1 and A2\n",
    "linear_combination = x * A1 + y * A2\n",
    "\n",
    "# Print the results\n",
    "print(f\"Coefficients (x, y): ({x}, {y})\")\n",
    "print(\"Linear Combination of A1 and A2 to obtain B:\")\n",
    "print(linear_combination)"
   ]
  },
  {
   "cell_type": "markdown",
   "metadata": {},
   "source": [
    "$\n",
    "\\begin{equation}\n",
    "A_1 =\n",
    "\\begin{bmatrix}\n",
    "1 & 0 \\\\\n",
    "0 & 1 \\\\\n",
    "\\end{bmatrix},\n",
    "A_2 =\n",
    "\\begin{bmatrix}\n",
    "0 & 1 \\\\\n",
    "1 & 0 \\\\\n",
    "\\end{bmatrix},\n",
    "A_3 =\n",
    "\\begin{bmatrix}\n",
    "1 & -1 \\\\\n",
    "1 & 1 \\\\\n",
    "\\end{bmatrix},\n",
    "B =\n",
    "\\begin{bmatrix}\n",
    "2 & 5 \\\\\n",
    "0 & 3 \\\\\n",
    "\\end{bmatrix}\n",
    "\\end{equation}\n",
    "$\n",
    "<br>\n",
    "<br>"
   ]
  },
  {
   "cell_type": "markdown",
   "metadata": {},
   "source": [
    "---"
   ]
  },
  {
   "cell_type": "markdown",
   "metadata": {},
   "source": [
    "3. Given the following:\n",
    "$\n",
    "\\begin{equation}\n",
    "A =\n",
    "\\begin{bmatrix}\n",
    "1 & 2 \\\\\n",
    "2 & 6 \\\\\n",
    "\\end{bmatrix},\n",
    "b_1 =\n",
    "\\begin{bmatrix}\n",
    "3 \\\\\n",
    "5 \\\\\n",
    "\\end{bmatrix},\n",
    "b_2 =\n",
    "\\begin{bmatrix}\n",
    "-1 \\\\\n",
    "2 \\\\\n",
    "\\end{bmatrix},\n",
    "b_3 =\n",
    "\\begin{bmatrix}\n",
    "2 \\\\\n",
    "0 \\\\\n",
    "\\end{bmatrix}\n",
    "\\end{equation}\n",
    "$\n",
    "- Find $A^{-1}$, and use this to solve for $Ax=b_1,Ax=b_2,Ax=b_3$\n",
    "- Solve all three linear systems by row reducing the augmented matrix:\n",
    "$\n",
    "\\begin{equation}\n",
    "\\begin{bmatrix}\n",
    "\\begin{array}{c|ccc}\n",
    "A &\n",
    "b_1 &\n",
    "b_2 &\n",
    "b_3 \\\\\n",
    "\\end{array}\n",
    "\\end{bmatrix}\n",
    "\\end{equation}\n",
    "$"
   ]
  },
  {
   "cell_type": "markdown",
   "metadata": {},
   "source": [
    "---"
   ]
  },
  {
   "cell_type": "markdown",
   "metadata": {},
   "source": [
    "4. In each given, determine if $b$ in in $col(A)$, and $w$ is in $row(A)$\n",
    "$\n",
    "\\begin{equation}\n",
    "A =\n",
    "\\begin{bmatrix}\n",
    "1 & 0 & -1 \\\\\n",
    "1 & 1 & 1 \\\\\n",
    "\\end{bmatrix},\n",
    "b =\n",
    "\\begin{bmatrix}\n",
    "3 \\\\\n",
    "2 \\\\\n",
    "\\end{bmatrix},\n",
    "w =\n",
    "\\begin{bmatrix}\n",
    "-1 &\n",
    "1 &\n",
    "1\n",
    "\\end{bmatrix},\n",
    "\\end{equation}\n",
    "$\n",
    "$\n",
    "\\begin{equation}\n",
    "A =\n",
    "\\begin{bmatrix}\n",
    "1 & 1 & -1 \\\\\n",
    "1 & 3 & 0 \\\\\n",
    "3 & -1 & -5 \\\\\n",
    "\\end{bmatrix},\n",
    "b =\n",
    "\\begin{bmatrix}\n",
    "1 \\\\\n",
    "2 \\\\\n",
    "1 \\\\\n",
    "\\end{bmatrix},\n",
    "w =\n",
    "\\begin{bmatrix}\n",
    "1 &\n",
    "-3 &\n",
    "-3\n",
    "\\end{bmatrix},\n",
    "\\end{equation}\n",
    "$"
   ]
  },
  {
   "cell_type": "markdown",
   "metadata": {},
   "source": [
    "---"
   ]
  },
  {
   "cell_type": "markdown",
   "metadata": {},
   "source": [
    "5. Find the rank and nullity of:\n",
    "$\n",
    "\\begin{bmatrix}\n",
    "2 & 4 & 0 & 0 & 1 \\\\\n",
    "6 & 3 & 5 & 1 & 0 \\\\\n",
    "1 & 0 & 2 & 2 & 5 \\\\\n",
    "1 & 1 & 1 & 1 & 1 \\\\\n",
    "\\end{bmatrix}\n",
    "$"
   ]
  },
  {
   "cell_type": "markdown",
   "metadata": {},
   "source": [
    "$\n",
    " \\begin{equation}\n",
    "    \\begin{bmatrix}\n",
    "        2 & 4 & 0 & 0 & 1 \\\\\n",
    "        6 & 3 & 5 & 1 & 0 \\\\\n",
    "        1 & 0 & 2 & 2 & 5 \\\\\n",
    "        1 & 1 & 1 & 1 & 1 \\\\\n",
    "    \\end{bmatrix}\n",
    "    \\xrightarrow[]{R_2 - 3R_1}\n",
    "    \\begin{bmatrix}\n",
    "        2 & 4 & 0 & 0 & 1 \\\\\n",
    "        0 & -9 & 5 & 1 & -3 \\\\\n",
    "        1 & 0 & 2 & 2 & 5 \\\\\n",
    "        1 & 1 & 1 & 1 & 1 \\\\\n",
    "    \\end{bmatrix}\n",
    "    \\xrightarrow[R_4 - \\frac{1}{2}R_1]{R_3 - \\frac{1}{2}R_1}\n",
    "    \\begin{bmatrix}\n",
    "        2 & 4 & 0 & 0 & 1 \\\\\n",
    "        0 & -9 & 5 & 1 & -3 \\\\\n",
    "        0 & 0 & 2 & 2 & 4.5 \\\\\n",
    "        0 & -1 & 1 & 1 & 0.5 \\\\\n",
    "    \\end{bmatrix}\n",
    "    \\xrightarrow[R_4 - 1]{R_3(R_1)}\n",
    "    \\begin{bmatrix}\n",
    "        2 & 4 & 0 & 0 & 1 \\\\\n",
    "        0 & -9 & 5 & 1 & -3 \\\\\n",
    "        0 & 0 & 0 & 0 & 4.5 \\\\\n",
    "        0 & 0 & 0 & 0 & 0 \\\\\n",
    "    \\end{bmatrix}\n",
    "\\end{equation}\n",
    "$\n",
    "- Rank of the matrix = <font color=red>4</font>\n",
    "- Nullity of the matrix = (columns - rank) = (5 - 4) = <font color=red>1</font>"
   ]
  },
  {
   "cell_type": "code",
   "execution_count": 1,
   "metadata": {},
   "outputs": [
    {
     "name": "stdout",
     "output_type": "stream",
     "text": [
      "Rank of the matrix: 4\n",
      "Nullity of the matrix: 1\n"
     ]
    }
   ],
   "source": [
    "import numpy as np\n",
    "\n",
    "# Define the matrix\n",
    "matrix = np.array([\n",
    "    [2, 4, 0, 0, 1],\n",
    "    [6, 3, 5, 1, 0],\n",
    "    [1, 0, 2, 2, 5],\n",
    "    [1, 1, 1, 1, 1]\n",
    "])\n",
    "\n",
    "# Find the rank using NumPy's matrix_rank function\n",
    "rank = np.linalg.matrix_rank(matrix)\n",
    "\n",
    "# Find the nullity (number of columns - rank)\n",
    "nullity = matrix.shape[1] - rank\n",
    "\n",
    "# Print the results\n",
    "print(\"Rank of the matrix:\", rank)\n",
    "print(\"Nullity of the matrix:\", nullity)"
   ]
  }
 ],
 "metadata": {
  "kernelspec": {
   "display_name": "Python 3",
   "language": "python",
   "name": "python3"
  },
  "language_info": {
   "codemirror_mode": {
    "name": "ipython",
    "version": 3
   },
   "file_extension": ".py",
   "mimetype": "text/x-python",
   "name": "python",
   "nbconvert_exporter": "python",
   "pygments_lexer": "ipython3",
   "version": "3.11.5"
  }
 },
 "nbformat": 4,
 "nbformat_minor": 2
}
