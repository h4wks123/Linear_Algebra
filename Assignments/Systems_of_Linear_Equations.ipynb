{
 "cells": [
  {
   "cell_type": "markdown",
   "metadata": {},
   "source": [
    "**Name:** Ivanne Dave L. Bayer <br>\n",
    "**Date:** December 2023 <br>\n",
    "**Course:** Discrete Structure III <br>"
   ]
  },
  {
   "cell_type": "markdown",
   "metadata": {},
   "source": [
    "---"
   ]
  },
  {
   "cell_type": "markdown",
   "metadata": {},
   "source": [
    "# <font color = red> Assignment 2.1 </font>\n",
    "---\n",
    "$\n",
    "\\begin{equation}\n",
    "2x+3y-z= 0 \\\\\n",
    "-x+5y+2z = 0 \\\\\n",
    "\\end{equation}\n",
    "$"
   ]
  },
  {
   "cell_type": "code",
   "execution_count": 3,
   "metadata": {},
   "outputs": [],
   "source": [
    "import numpy as np\n",
    "# Pythonic Solutions\n",
    "# the following functions are the steps involved in forward elimination\n",
    "\n",
    "def RowSwap(A,k,l):\n",
    "    m = A.shape[0]  # m is number of rows in A\n",
    "    n = A.shape[1]  # n is number of columns in A\n",
    "    \n",
    "    B = np.copy(A).astype('float64')\n",
    "        \n",
    "    for j in range(n):\n",
    "        temp = B[k][j]\n",
    "        B[k][j] = B[l][j]\n",
    "        B[l][j] = temp\n",
    "        \n",
    "    return B\n",
    "\n",
    "def RowScale(A,k,scale):\n",
    "    m = A.shape[0]  # m is number of rows in A\n",
    "    n = A.shape[1]  # n is number of columns in A\n",
    "    \n",
    "    B = np.copy(A).astype('float64')\n",
    "\n",
    "    for j in range(n):\n",
    "        B[k][j] *= scale\n",
    "        \n",
    "    return B\n",
    "\n",
    "def RowAdd(A,k,l,scale):\n",
    "    m = A.shape[0]  # m is number of rows in A\n",
    "    n = A.shape[1]  # n is number of columns in A\n",
    "    \n",
    "    B = np.copy(A).astype('float64')\n",
    "        \n",
    "    for j in range(n):\n",
    "        B[l][j] += B[k][j]*scale\n",
    "        \n",
    "    return B"
   ]
  },
  {
   "cell_type": "markdown",
   "metadata": {},
   "source": [
    "- The above python functions are developed to automate forward elimination.\n",
    "- To complete the process of determining the solution, create a function or steps of function that will automate backward substitution."
   ]
  },
  {
   "cell_type": "code",
   "execution_count": 6,
   "metadata": {},
   "outputs": [
    {
     "name": "stdout",
     "output_type": "stream",
     "text": [
      "Solution vector: [-1.5  0.   4. ]\n"
     ]
    }
   ],
   "source": [
    "import numpy as np\n",
    "\n",
    "def backward_substitution(U, b):\n",
    "    \"\"\"\n",
    "    Perform backward substitution to find the solution to the system of linear equations\n",
    "    Ux = b, where U is an upper triangular matrix.\n",
    "\n",
    "    Parameters:\n",
    "    U (numpy.ndarray): Upper triangular matrix.\n",
    "    b (numpy.ndarray): Right-hand side vector.\n",
    "\n",
    "    Returns:\n",
    "    x (numpy.ndarray): Solution vector.\n",
    "    \"\"\"\n",
    "    n = U.shape[0]\n",
    "    x = np.zeros(n)\n",
    "\n",
    "    for i in range(n - 1, -1, -1):\n",
    "        x[i] = b[i] / U[i, i]\n",
    "        for j in range(i - 1, -1, -1):\n",
    "            b[j] -= U[j, i] * x[i]\n",
    "\n",
    "    return x\n",
    "\n",
    "# Example Usage:\n",
    "# Assume you have an upper triangular matrix U and a right-hand side vector b\n",
    "U = np.array([[2, -1, 3],\n",
    "              [0, 3, 2],\n",
    "              [0, 0, 4]], dtype=float)\n",
    "\n",
    "b = np.array([9, 8, 16], dtype=float)\n",
    "\n",
    "# Perform backward substitution\n",
    "solution = backward_substitution(U, b)\n",
    "\n",
    "print(\"Solution vector:\", solution)"
   ]
  },
  {
   "cell_type": "markdown",
   "metadata": {},
   "source": [
    "---"
   ]
  },
  {
   "cell_type": "markdown",
   "metadata": {},
   "source": [
    "# <font color = red> Assignment 2.2 </font>\n",
    "---\n",
    "**INSTRUCTION**\n",
    "- Use latex programming to show your manual solutions.\n",
    "- If the problem involves determining the row echelon or reduced row echelon, show both the manual and the pythonic solutions.\n",
    "- Solutions must be saved as a jupyter notebook.\n",
    "- Push your solutions to your forked github repo.\n",
    "- Note that there is some **possibility** that some ,or all, of your exam questions will be taken from these assignment.\n",
    "- The technique here is to first solve manually before writing in Latex.\n",
    "---\n",
    "1. Provide reasons why each of the following equations is, or is not, a linear equation.\n",
    "- $\\cos{\\theta}x+4y+z = \\sqrt{3}$\n",
    "    - The equation above is <font color = red>not a linear equation</font> as the presence of the cosine function violates the criteria which in turn introduces nonlinearity. A linear equation has the prerequisites of not multiplying or dividing variables with each other and the term $\\cos{\\theta}x$ includes the product of both the $\\cos{\\theta}$ and x making it nonlinear.<br><br>\n",
    "\n",
    "- $cos{x}4y+z = \\sqrt{3}$\n",
    "    - The equation shown above is a <font color = red>nonlinear equation</font> because there are two issues that violates the criteria of linear equations which includes the presence of $\\cos{x}$ as the variable must appear to the first power. Moreover, the multiplication of variables being represented in 4y also violates the criteria of linear equations.<br><br>\n",
    "\n",
    "- $x^{-1}+7y+z = \\sin{(\\frac{\\pi}{2})}$\n",
    "    - The equation being represented above is a <font color = red>nonlinear equation</font> as it violates the criteria of linear equations. In this equation, the term $x^{-1}$ represents the reciprocal of x, which violates the condition of having only variables raised to the first power. Moreover, the presence of $\\sin{(\\frac{\\pi}{2})}$ introduces nonlinearity as it is a trigonometric function.<br><br>\n",
    "- $x^1+y^1+z^1=0$\n",
    "    - The equation shown above meets the criteria of a <font color = red>linear equation</font> as it is characterized with the necessary prerequisites. The variables are raised only to the first power, which automatically satisfies this condition. Moreover, the variables are combined together with a coefficient of 1. In addition, the right side of the linear equation is a constant value being represented as 0.<br>"
   ]
  },
  {
   "cell_type": "markdown",
   "metadata": {},
   "source": [
    "---\n",
    "2. Find the solutions to the linear equations:\n",
    "- $2x_1+3x_2 =5$\n",
    "    - $2_{x1} = 5 - 3_{x2}$\n",
    "    - $x_1 = \\frac{5 + 3_{x2}}{2}$\n",
    "    - $3_{x2} = 5 - 2_{x1}$\n",
    "    - $x_2 = \\frac{5 - 2_{x1}}{3}$\n",
    "    \n",
    "- $4x_1+3x_2+2x_3=1$\n",
    "    - $x_2 = s,x_3 = t$\n",
    "    - $4_{x1} + 3s + 2t = 1$\n",
    "    - $\\begin{pmatrix}\n",
    "      1 & 0 & 0 &\\bigm| & \\frac{1 - 3s - 2t}{4} \\\\\n",
    "      0 & 1 & 0 &\\bigm| & s \\\\\n",
    "      0 & 0 & 1 &\\bigm| & t \\\\\n",
    "      \\end{pmatrix}$\n",
    "    \n",
    "- $3x-6y=0$\n",
    "    - $3x = 6y$\n",
    "    - $x = \\frac{6y}{3}$\n",
    "    - $x = 2y$\n",
    "    - $6y = 3x$\n",
    "    - $y = \\frac{3x}{6}$\n",
    "    - $y = \\frac{x}{2}$\n",
    "    - $\\begin{pmatrix}\n",
    "      1 & 0 &\\bigm| & 2s \\\\\n",
    "      0 & 1 &\\bigm| & s \\\\\n",
    "      \\end{pmatrix}$"
   ]
  },
  {
   "cell_type": "markdown",
   "metadata": {},
   "source": [
    "---"
   ]
  },
  {
   "cell_type": "markdown",
   "metadata": {},
   "source": [
    "3. Solve the following systems of linear equations:\n",
    "- $L1: x - y = 0, \\ L2: 2x + y = 3$\n",
    "    - *Forward Elimination:*\n",
    "        - $-2(x - y = 0)$\n",
    "        - $-2x + 2y = 0$\n",
    "    - *Add L1 and L2:*\n",
    "        - $\\frac{3y}{3} = \\frac{3}{3}$\n",
    "        - $y = 1$\n",
    "    - *Backward Substitution:*\n",
    "        - $x - 1 = 0$\n",
    "        - $x = 1$\n",
    "    - *Result:*\n",
    "        - $x = 1, \\ y = 1$"
   ]
  },
  {
   "cell_type": "code",
   "execution_count": 12,
   "metadata": {},
   "outputs": [
    {
     "name": "stdout",
     "output_type": "stream",
     "text": [
      "Solution:\n",
      "x = 1.0\n",
      "y = 1.0\n"
     ]
    }
   ],
   "source": [
    "import numpy as np\n",
    "\n",
    "# Coefficient matrix\n",
    "coeff_matrix = np.array([[1, -1], [2, 1]])\n",
    "\n",
    "# Constants\n",
    "constants = np.array([0, 3])\n",
    "\n",
    "# Solve the system of linear equations\n",
    "solution = np.linalg.solve(coeff_matrix, constants)\n",
    "\n",
    "# Print the solution\n",
    "print(\"Solution:\")\n",
    "print(\"x =\", solution[0])\n",
    "print(\"y =\", solution[1])"
   ]
  },
  {
   "cell_type": "markdown",
   "metadata": {},
   "source": [
    "- $L1: x + 5y = -1, \\ L2: -x + y = -5, \\ L3: 2x + 4y = 4$ <br><br>\n",
    "    - *Forward Elimination:* <br><br>\n",
    "$\n",
    "\\begin{pmatrix}\n",
    "    1 & 5 &\\bigm| & -1 \\\\\n",
    "    -1 & 1 &\\bigm| & -5 \\\\\n",
    "    2 & 4 &\\bigm| & 4 \\\\\n",
    "\\end{pmatrix}\n",
    "\\xrightarrow[\\text{R}_{3} - 2\\text{R}_{1}]{\\text{R}_{2} + \\text{R}_{1}}\n",
    "\\begin{pmatrix}\n",
    "    1 & 5 &\\bigm| & -1 \\\\\n",
    "    0 & 6 &\\bigm| & -6 \\\\\n",
    "    0 & -6 &\\bigm| & 6 \\\\\n",
    "\\end{pmatrix}\n",
    "\\xrightarrow[\\text{R}_{3}(\\frac{1}{6})]{\\text{R}_{2}(\\frac{1}{6})}\n",
    "\\begin{pmatrix}\n",
    "    1 & 5 &\\bigm| & -1 \\\\\n",
    "    0 & 1 &\\bigm| & -1 \\\\\n",
    "    0 & -1 &\\bigm| & 1 \\\\\n",
    "\\end{pmatrix}\n",
    "\\xrightarrow[\\text{R}_{3} + \\text{R}_{2}]{}\n",
    "\\begin{pmatrix}\n",
    "    1 & 5 &\\bigm| & -1 \\\\\n",
    "    0 & 1 &\\bigm| & -1 \\\\\n",
    "    0 & 0 &\\bigm| & 0 \\\\\n",
    "\\end{pmatrix}\n",
    "% \\xrightarrow[\\text{R}_{1} - 5\\text{R}_{2}]{}\n",
    "% \\begin{pmatrix}\n",
    "%     1 & 0 &\\bigm| & 4 \\\\\n",
    "%     0 & 1 &\\bigm| & -1 \\\\\n",
    "%     0 & 0 &\\bigm| & 0 \\\\\n",
    "% \\end{pmatrix}\n",
    "$ \n",
    "<br><br> \n",
    "        - y = -1\n",
    "<br>\n",
    "    - *Backward Substitution:* <br>\n",
    "        - x + 5(-1) = -1\n",
    "        - x + -5 = -1\n",
    "        - x = 5 + (-1)\n",
    "        - x = 4\n",
    "    - *Result:*\n",
    "        - $x = 4, \\ y = -1$"
   ]
  },
  {
   "cell_type": "code",
   "execution_count": 13,
   "metadata": {},
   "outputs": [
    {
     "name": "stdout",
     "output_type": "stream",
     "text": [
      "Solution:\n",
      "x = 4.000000000000001\n",
      "y = -0.9999999999999998\n"
     ]
    }
   ],
   "source": [
    "import numpy as np\n",
    "\n",
    "# Coefficient matrix\n",
    "coeff_matrix = np.array([[1, 5], [-1, 1], [2, 4]])\n",
    "\n",
    "# Constants\n",
    "constants = np.array([-1, -5, 4])\n",
    "\n",
    "# Solve the system of linear equations\n",
    "solution = np.linalg.lstsq(coeff_matrix, constants, rcond=None)[0]\n",
    "\n",
    "# Print the solution\n",
    "print(\"Solution:\")\n",
    "print(\"x =\", solution[0])\n",
    "print(\"y =\", solution[1])"
   ]
  },
  {
   "cell_type": "markdown",
   "metadata": {},
   "source": [
    "- $L1: 2x_1 + 3x_2 - x_3 = -1, L2: x_1 + x_3 = 0, L3: -x_1 + 2x_2 - 2x_3  = 0$ <br><br>\n",
    "    - *Forward Elimination:* <br><br>\n",
    "$\n",
    "\\begin{pmatrix}\n",
    "    2 & 3 & -1 &\\bigm| & -1 \\\\\n",
    "    1 & 0 & 1 &\\bigm| & 0 \\\\\n",
    "    -1 & 2 & -2 &\\bigm| & 0 \\\\\n",
    "\\end{pmatrix}\n",
    "\\xrightarrow[R_2 - R_1]{\\frac{1}{2}R_1}\n",
    "\\begin{pmatrix}\n",
    "    1 & \\frac{3}{2} & \\frac{-1}{2} &\\bigm| & \\frac{-1}{2} \\\\\n",
    "    0 & \\frac{-3}{2} & \\frac{3}{2} &\\bigm| & \\frac{1}{2}\\\\\n",
    "    -1 & 2 & -2 &\\bigm| & 0 \\\\\n",
    "\\end{pmatrix}\n",
    "\\xrightarrow[\\frac{-2}{3}R_2]{R_3 - \\frac{7}{2}R_2}\n",
    "\\begin{pmatrix}\n",
    "    1 & \\frac{3}{2} & \\frac{-1}{2} &\\bigm| & \\frac{-1}{2} \\\\\n",
    "    0 & 1 & -1 &\\bigm| & \\frac{-1}{3}\\\\\n",
    "    0 & 0 & 1 &\\bigm| & \\frac{-5}{9} \\\\\n",
    "\\end{pmatrix}\n",
    "\\xrightarrow[R_1 - \\frac{3}{2}R_2]{R_1 - \\frac{1}{3}R_2}\n",
    "\\begin{pmatrix}\n",
    "    1 & 0 & 0 &\\bigm| & 0 \\\\\n",
    "    0 & 1 & -1 &\\bigm| & \\frac{-1}{3}\\\\\n",
    "    0 & 0 & 1 &\\bigm| & \\frac{-5}{9} \\\\\n",
    "\\end{pmatrix}\n",
    "$\n",
    "<br>\n",
    "    - *Backward Substitution:* <br>\n",
    "        - x_1 = 0\n",
    "        - $x_3 = -\\frac{5}{9}$\n",
    "        - $x_2 - x_3 = -\\frac{1}{3}$ \n",
    "        - $x_2 - (-\\frac{5}{9}) = -\\frac{1}{3}$\n",
    "        - $x_2 = -\\frac{1}{3} - \\frac{5}{9}$\n",
    "        - $x_2 = -\\frac{8}{9}$\n",
    "    - *Result:*\n",
    "        - $x_1 = 0, x_2 = -\\frac{8}{9}, x_3 = -\\frac{5}{9}$"
   ]
  },
  {
   "cell_type": "markdown",
   "metadata": {},
   "source": [
    "---"
   ]
  },
  {
   "cell_type": "markdown",
   "metadata": {},
   "source": [
    "4. Provide reasons why the given matrices are either a row echelon, a reduced row echelon, or niether both.<br>\n",
    "\n",
    "a. <br>\n",
    "\\begin{pmatrix}\n",
    "   1 & 0 & 1 \\\\\n",
    "   0 & 0 & 3 \\\\\n",
    "   0 & 1 & 0 \\\\\n",
    "\\end{pmatrix}\n",
    "\n",
    "   - The matrix is <font color = red>not a row echelon</font> since the leading entries of the second row being represented as zero is greater than the third row.\n",
    "   - The matrix is also <font color = red>not a reduced row echelon</font> since it needs to satisfy the condition of a row echelon for it to be reduced.\n",
    "   \n",
    "b. <br>\n",
    "\\begin{pmatrix}\n",
    "   7 & 0 & 1 & 0 \\\\\n",
    "   0 & 1 & -1 & 4 \\\\\n",
    "   0 & 0 & 0 & 0 \\\\\n",
    "\\end{pmatrix}\n",
    "\n",
    "   - The matrix meets the criteria of a <font color = red>row echelon</font> as the third row has the most number of leading entries and both R1 and R2 are organized based on their leading entries.\n",
    "   - The matrix however is <font color = red>not a reduced row echelon</font> as its leading entry in R1 is not one\n",
    "   \n",
    "c. <br>\n",
    "\\begin{pmatrix}\n",
    "   0 & 1 & 3 & 0 \\\\\n",
    "   0 & 0 & 0 & 1 \\\\\n",
    "\\end{pmatrix}\n",
    "\n",
    "   - The matrix is in its <font color = red>row echelon form</font> because the leading entries are zeroes and R2 has more leading entries compared to R1.\n",
    "\n",
    "d. <br>\n",
    "\\begin{pmatrix}\n",
    "   0 & 0 & 0 \\\\\n",
    "   0 & 0 & 0 \\\\\n",
    "   0 & 0 & 0 \\\\\n",
    "\\end{pmatrix}\n",
    "\n",
    "   - The matrix is in its <font color = red>reduced row echelon form</font> since all of the zero rows are at the bottom of the matrix and no non-zero entries are found outside the leading entries\n",
    "e. <br>\n",
    "\\begin{pmatrix}\n",
    "   1 & 0 & 3 & -4 & 0 \\\\\n",
    "   0 & 0 & 0 & 0 & 0 \\\\\n",
    "   0 & 1 & 5 & 0 & 1 \\\\\n",
    "\\end{pmatrix}\n",
    "\n",
    "   - The matrix is <font color = red>not a row echelon form</font> since R2 has the most leading entries represented as zero which should be placed at R3.\n",
    "   - The matrix <font color = red>cannot be a reduced row echelon</font> form if it does not satisfy the row echelon form condition.\n",
    "\n",
    "f. <br>\n",
    "\\begin{pmatrix}\n",
    "   0 & 0 & 1 \\\\\n",
    "   0 & 1 & 0 \\\\\n",
    "   1 & 0 & 0 \\\\\n",
    "\\end{pmatrix}\n",
    "\n",
    "   - The matrix is <font color = red>neither</font> as the leading entires of rows above are not to the left of those below\n",
    "\n",
    "g. <br>\n",
    "\\begin{pmatrix}\n",
    "   1 & 2 & 3 \\\\\n",
    "   1 & 0 & 0 \\\\\n",
    "   0 & 1 & 1 \\\\\n",
    "   0 & 0 & 1 \\\\\n",
    "\\end{pmatrix}\n",
    "\n",
    "   - The matrix is <font color = red>neither</font> forms since there are some leading non-zero entries that are found with zeroes at the right, which is in the case of R2\n",
    "\n",
    "h. <br>\n",
    "\\begin{pmatrix}\n",
    "   2 & 1 & 3 & 5 \\\\\n",
    "   0 & 0 & 1 & -1 \\\\\n",
    "   0 & 0 & 0 & 3 \\\\\n",
    "   0 & 0 & 0 & 0 \\\\\n",
    "\\end{pmatrix}\n",
    "\n",
    "   - The matrix is in its <font color = red>row echelon form</font> as the leading entries of R2 is less than R3 and R3 is less than R4.\n",
    "   - The matrix <font color = red>cannot be considered as reduced row echelon</font> form as the leading entry of R1 is neither one or zero."
   ]
  },
  {
   "cell_type": "markdown",
   "metadata": {},
   "source": [
    "---\n",
    "5. Solve the following systems of linear equations<br>"
   ]
  },
  {
   "cell_type": "markdown",
   "metadata": {},
   "source": [
    "a.<br> \n",
    "$\n",
    "\\begin{equation}\n",
    "x_1+2x_2-3x_3=9 \\\\\n",
    "2x_1-x_2-x_3=0 \\\\\n",
    "4x_1-x_2+x_3=4 \\\\\n",
    "\\end{equation}\n",
    "$\n",
    "<br>\n",
    "$\n",
    " \\begin{equation}\n",
    "    \\begin{bmatrix}\n",
    "        1 & 2 & -3| 9\\\\\n",
    "        2 & -1 & -1| 0\\\\\n",
    "        4 & -1 & 1| 4\\\\\n",
    "    \\end{bmatrix}\n",
    "    \\xrightarrow[R_2 - 2R_1]{R_3 - 2R_2}\n",
    "    \\begin{bmatrix}\n",
    "        1 & 2 & -3| 9\\\\\n",
    "        0 & -5 & 5| 18\\\\\n",
    "        0 & 1 & 3| 4\\\\\n",
    "    \\end{bmatrix}\n",
    "    \\xrightarrow[R_3 - R_2]{\\frac{-1}{5}R_2}   \n",
    "    \\begin{bmatrix}\n",
    "        1 & 2 & -3| 9\\\\\n",
    "        0 & 1 & -1| \\frac{18}{5}\\\\\n",
    "        0 & 0 & 4| \\frac{1}{4}R_3\\\\\n",
    "    \\end{bmatrix}\n",
    "    \\xrightarrow[R_1 - 2R_2]{R_2 + R_3}   \n",
    "    \\begin{bmatrix}\n",
    "        1 & 0 & -3| \\frac{8}{5}\\\\\n",
    "        0 & 1 & 0| \\frac{37}{10}\\\\\n",
    "        0 & 0 & 1| \\frac{1}{10}R_3\\\\\n",
    "    \\end{bmatrix}   \n",
    "    \\xrightarrow[]{R_1 + 3R_3} \n",
    "    \\begin{bmatrix}\n",
    "        1 & 0 & 0| \\frac{19}{10}\\\\\n",
    "        0 & 1 & 0| \\frac{37}{10}\\\\\n",
    "        0 & 0 & 1| \\frac{1}{10}R_3\\\\\n",
    "    \\end{bmatrix}      \n",
    "\\end{equation}\n",
    "$\n",
    "<br>\n",
    "- $x_1 = \\frac{19}{10}$<br>\n",
    "- $x_2 = \\frac{37}{10}$<br>\n",
    "- $x_3 = \\frac{1}{10}$<br>\n",
    "- $2x_1 - x_2 - x_3 = 0$<br>\n",
    "- $\\frac{19}{5} - \\frac{37}{10} - \\frac{1}{10} = 0$<br>"
   ]
  },
  {
   "cell_type": "code",
   "execution_count": 10,
   "metadata": {},
   "outputs": [
    {
     "name": "stdout",
     "output_type": "stream",
     "text": [
      "Solution:\n",
      "x1 = 1.9\n",
      "x2 = 3.6999999999999997\n",
      "x3 = 0.10000000000000003\n"
     ]
    }
   ],
   "source": [
    "import numpy as np\n",
    "\n",
    "# Coefficients matrix A\n",
    "A = np.array([[1, 2, -3],\n",
    "              [2, -1, -1],\n",
    "              [4, -1, 1]])\n",
    "\n",
    "# Constants vector B\n",
    "B = np.array([9, 0, 4])\n",
    "\n",
    "# Solve the system of linear equations\n",
    "solution = np.linalg.solve(A, B)\n",
    "\n",
    "# Print the solution\n",
    "print(\"Solution:\")\n",
    "print(f\"x1 = {solution[0]}\")\n",
    "print(f\"x2 = {solution[1]}\")\n",
    "print(f\"x3 = {solution[2]}\")\n"
   ]
  },
  {
   "cell_type": "markdown",
   "metadata": {},
   "source": [
    "b. <br>\n",
    "$\n",
    "\\begin{equation}\n",
    "x+2y= -1 \\\\\n",
    "2x+y+z = 1 \\\\\n",
    "-x+y-z = -1\n",
    "\\end{equation}\n",
    "$\n",
    "<br>\n",
    "$\n",
    " \\begin{equation}\n",
    "    \\begin{bmatrix}\n",
    "        1 & 2 & 0| -1\\\\\n",
    "        2 & 1 & 1| 1\\\\\n",
    "        -1 & 1 & -1| -1\\\\\n",
    "    \\end{bmatrix}\n",
    "    \\xrightarrow[R_3 + R_2]{\\frac{1}{2}R_2}\n",
    "    \\begin{bmatrix}\n",
    "        1 & 2 & 0| -1\\\\\n",
    "        0 & \\frac{1}{2} & \\frac{1}{2}| \\frac{1}{2}\\\\\n",
    "        0 & \\frac{3}{2} & \\frac{-1}{2}| \\frac{-1}{2}\\\\\n",
    "    \\end{bmatrix}\n",
    "    \\xrightarrow[R_3 - R_2]{\\frac{-1}{5}R_2}   \n",
    "    \\begin{bmatrix}\n",
    "        1 & 2 & -3| 9\\\\\n",
    "        0 & 1 & -1| \\frac{18}{5}\\\\\n",
    "        0 & 0 & 4| \\frac{1}{4}R_3\\\\\n",
    "    \\end{bmatrix}\n",
    "    \\xrightarrow[R_3 + R_2]{R_2 - R_1}   \n",
    "    \\begin{bmatrix}\n",
    "        1 & 0 & -3| \\frac{8}{5}\\\\\n",
    "        0 & 1 & 0| \\frac{37}{10}\\\\\n",
    "        0 & 0 & 1| \\frac{1}{10}R_3\\\\\n",
    "    \\end{bmatrix}   \n",
    "\\end{equation}\n",
    "$\n",
    "- 0 + 0 + 0 cannot equal to one which shows that there is no solution"
   ]
  },
  {
   "cell_type": "code",
   "execution_count": 13,
   "metadata": {},
   "outputs": [
    {
     "name": "stdout",
     "output_type": "stream",
     "text": [
      "Determinant of A: 0.0\n",
      "If determinant is zero, then there is no solution\n"
     ]
    }
   ],
   "source": [
    "import numpy as np\n",
    "\n",
    "# Coefficient matrix\n",
    "A = np.array([[1, 2, 0],\n",
    "              [2, 1, 1],\n",
    "              [-1, 1, -1]])\n",
    "\n",
    "# Determinant of A\n",
    "det_A = np.linalg.det(A)\n",
    "\n",
    "print(\"Determinant of A:\", det_A)\n",
    "print(\"If determinant is zero, then there is no solution\")"
   ]
  },
  {
   "cell_type": "markdown",
   "metadata": {},
   "source": [
    "c. <br>\n",
    "$\n",
    "\\begin{equation}\n",
    "x_1-3x_2-2x_3=0 \\\\\n",
    "-x_1+2x_2+x_3=0 \\\\\n",
    "2x_1+4x_2+6x_3=0 \\\\\n",
    "\\end{equation}\n",
    "$\n",
    "<br>\n",
    "$\n",
    " \\begin{equation}\n",
    "    \\begin{bmatrix}\n",
    "        1 & -3 & 2| 0\\\\\n",
    "        1 & 2 & 1| 0\\\\\n",
    "        2 & 4 & 6| 0\\\\\n",
    "    \\end{bmatrix}\n",
    "\\end{equation}\n",
    "$\n",
    "- A homogeneous system with x_1 = 0, x_2 = 0, x_3 = 0\n",
    "- x_1 - 3x_2 - 2x_3 = 0 \n",
    "- 0 - 3(0) - 2(0) = 0\n",
    "- 0\n",
    "- x_1 + 2x_2 + x_3 = 0\n",
    "- 0 + 2(0) + 0 = 0\n",
    "- 0\n",
    "- 2x_1 + 4x_2 + 6x_3 = 0\n",
    "- 2(0) + 4(0) + 6(0) = 0\n",
    "- 0"
   ]
  },
  {
   "cell_type": "markdown",
   "metadata": {},
   "source": [
    "d. <br>\n",
    "$\n",
    "\\begin{equation}\n",
    "w+x+2y+z=1 \\\\\n",
    "w-x-y+z=0 \\\\\n",
    "x+y=1 \\\\\n",
    "w+x+z=2\n",
    "\\end{equation}\n",
    "$\n",
    "<br>\n",
    "$\n",
    " \\begin{equation}\n",
    "    \\begin{bmatrix}\n",
    "        1 & 1 & 2 & 1| 1\\\\\n",
    "        1 & -1 & -1 & 1| 0\\\\\n",
    "        0 & 1 & 1 & 0| 1\\\\\n",
    "        1 & 1 & 0 & 1| 2\\\\\n",
    "    \\end{bmatrix}\n",
    "    \\xrightarrow[R_4 - R_1]{R_2 - R_1}\n",
    "    \\begin{bmatrix}\n",
    "        1 & 1 & 2 & 1| 1\\\\\n",
    "        0 & -2 & -3 & 0| 1\\\\\n",
    "        0 & 1 & 1 & 0| 1\\\\\n",
    "        0 & 0 & -2 & 1| 1\\\\\n",
    "    \\end{bmatrix}\n",
    "    \\xrightarrow[R_3 + 2R_2]{R_2 <-> R_3}   \n",
    "    \\begin{bmatrix}\n",
    "        1 & 1 & 2 & 1| 1\\\\\n",
    "        0 & 1 & 1 & 0| 1\\\\\n",
    "        0 & 0 & -1 & 0| 3\\\\\n",
    "        0 & 0 & -2 & 1| 1\\\\\n",
    "    \\end{bmatrix}\n",
    "\\end{equation}\n",
    "$\n",
    "- y = 3 and -2y = 1, y = 3 and y = $\\frac{1}{-2}$\n",
    "- y cannot be both 3 and $\\frac{1}{-2}$, so there is no unique solution"
   ]
  },
  {
   "cell_type": "code",
   "execution_count": 15,
   "metadata": {},
   "outputs": [
    {
     "name": "stdout",
     "output_type": "stream",
     "text": [
      "Determinant of A: 0.0\n",
      "If determinant is zero, then there is no solution\n"
     ]
    }
   ],
   "source": [
    "import numpy as np\n",
    "\n",
    "# Coefficients matrix A\n",
    "A = np.array([[1, 1, 2, 1],\n",
    "              [1, -1, -1, 1],\n",
    "              [0, 1, 1, 0],\n",
    "              [1, 1, 0, 1]])\n",
    "\n",
    "# Determinant of A\n",
    "det_A = np.linalg.det(A)\n",
    "\n",
    "print(\"Determinant of A:\", det_A)\n",
    "print(\"If determinant is zero, then there is no solution\")\n"
   ]
  },
  {
   "cell_type": "markdown",
   "metadata": {},
   "source": [
    "---"
   ]
  },
  {
   "cell_type": "markdown",
   "metadata": {},
   "source": [
    "6. Determine if the vectors are linear combinations<br>"
   ]
  },
  {
   "cell_type": "markdown",
   "metadata": {},
   "source": [
    "a. <br>\n",
    "$\n",
    " \\begin{equation}\n",
    "    \\textbf{v} = \\begin{bmatrix} 1 \\\\ 2 \\end{bmatrix} \\ \n",
    "    \\textbf{u}_2 = \\begin{bmatrix} -1 \\\\ 3 \\end{bmatrix}\\\n",
    "    \\textbf{u}_3 = \\begin{bmatrix} 2 \\\\ -6 \\end{bmatrix}\\\\\n",
    "\\end{equation}\n",
    "$\n",
    "<br>\n",
    "$\n",
    "\\begin{equation}\n",
    "    \\begin{bmatrix} 1 \\\\ 2 \\end{bmatrix}x +\n",
    "    \\begin{bmatrix} -1 \\\\ 3 \\end{bmatrix}y =\n",
    "    \\begin{bmatrix} 2 \\\\ -6 \\end{bmatrix}\n",
    "\\end{equation}\n",
    "$\n",
    "<br>\n",
    "<br>\n",
    "$\n",
    "\\begin{equation}\n",
    "    \\begin{bmatrix}\n",
    "        -1 & 2 & 1 \\\\\n",
    "        3 & -6 & 2\n",
    "    \\end{bmatrix}\n",
    "    \\xrightarrow[]{\\text{R}_{2} + 3\\text{R}_{1}}\n",
    "    \\begin{bmatrix}\n",
    "        -1 & 2 & 1 \\\\\n",
    "        0 & 0 & 5\n",
    "    \\end{bmatrix}\n",
    "\\end{equation}\n",
    "$\n",
    "<br>\n",
    "<br>- The equation shown above proves that it is <font color = red>not a linear combination.</font><br>"
   ]
  },
  {
   "cell_type": "code",
   "execution_count": 8,
   "metadata": {},
   "outputs": [
    {
     "name": "stdout",
     "output_type": "stream",
     "text": [
      "The vector is not a linear combination.\n"
     ]
    }
   ],
   "source": [
    "import numpy as np\n",
    "\n",
    "# Define the vectors\n",
    "v = np.array([1, 2])\n",
    "u2 = np.array([-1, 3])\n",
    "u3 = np.array([2, -6])\n",
    "\n",
    "# Create the coefficient matrix and the constant vector\n",
    "coeff_matrix = np.vstack((u2, u3)).T\n",
    "constants = v\n",
    "\n",
    "# Check if there is a solution\n",
    "if np.linalg.matrix_rank(coeff_matrix) == np.linalg.matrix_rank(np.vstack((coeff_matrix, constants)).T):\n",
    "    print(\"The vector is a linear combination.\")\n",
    "else:\n",
    "    print(\"The vector is not a linear combination.\")"
   ]
  },
  {
   "cell_type": "markdown",
   "metadata": {},
   "source": [
    "b. <br>\n",
    "$\n",
    " \\begin{equation}\n",
    "    \\textbf{v} = \\begin{bmatrix} 1 \\\\ 2 \\\\ 3 \\end{bmatrix} \\ \n",
    "    \\textbf{u}_2 = \\begin{bmatrix} 1 \\\\ 1 \\\\ 0 \\end{bmatrix}\\\n",
    "    \\textbf{u}_3 = \\begin{bmatrix} 0 \\\\ 1 \\\\ 1 \\end{bmatrix}\\\\\n",
    "\\end{equation}\n",
    "$\n",
    "<br>\n",
    "$\n",
    " \\begin{equation}\n",
    "    \\begin{bmatrix}\n",
    "        1 & 0 | 1\\\\\n",
    "        1 & 1 | 2\\\\\n",
    "        0 & 1 | 3\\\\\n",
    "    \\end{bmatrix}\n",
    "    \\xrightarrow[]{R_2 - x + 2_y = -12_x + y + z = 1 - x + y - z = -1}\n",
    "    \\begin{bmatrix}\n",
    "        1 & 0 | 1\\\\\n",
    "        1 & 1 | 1\\\\\n",
    "        0 & 1 | 3\\\\\n",
    "    \\end{bmatrix}\n",
    "    \\xrightarrow[]{R_3 - R_2}   \n",
    "    \\begin{bmatrix}\n",
    "        1 & 0 | 1\\\\\n",
    "        0 & 1 | 1\\\\\n",
    "        0 & 0 | 2\\\\\n",
    "    \\end{bmatrix}\n",
    "\\end{equation}\n",
    "$\n",
    "<br>- The equation shown above proves that it is <font color = red>not a linear combination.</font><br>"
   ]
  },
  {
   "cell_type": "code",
   "execution_count": 10,
   "metadata": {},
   "outputs": [
    {
     "name": "stdout",
     "output_type": "stream",
     "text": [
      "The vector is not a linear combination.\n"
     ]
    }
   ],
   "source": [
    "import numpy as np\n",
    "\n",
    "# Define the vectors\n",
    "v = np.array([1, 2, 3])\n",
    "u2 = np.array([1, 1, 0])\n",
    "u3 = np.array([0, 1, 1])\n",
    "\n",
    "# Create the coefficient matrix and the constant vector\n",
    "coeff_matrix = np.vstack((u2, u3)).T\n",
    "constants = v\n",
    "\n",
    "# Check if there is a solution\n",
    "if np.linalg.matrix_rank(coeff_matrix) == np.linalg.matrix_rank(np.column_stack((coeff_matrix, constants))):\n",
    "    print(\"The vector is a linear combination.\")\n",
    "else:\n",
    "    print(\"The vector is not a linear combination.\")"
   ]
  },
  {
   "cell_type": "markdown",
   "metadata": {},
   "source": [
    "c. <br>\n",
    "$\n",
    " \\begin{equation}\n",
    "    \\textbf{v} = \\begin{bmatrix} 3 \\\\ 1 \\\\ -2 \\end{bmatrix} \\ \n",
    "    \\textbf{u}_2 = \\begin{bmatrix} 1 \\\\ 1 \\\\ 0 \\end{bmatrix}\\\n",
    "    \\textbf{u}_3 = \\begin{bmatrix} 0 \\\\ 1 \\\\ 1 \\end{bmatrix}\\\\\n",
    "\\end{equation}\n",
    "$\n",
    "<br>\n",
    "$\n",
    "\\begin{equation}\n",
    "    \\begin{bmatrix} 1 \\\\ 1 \\\\ 0\\end{bmatrix}x +\n",
    "    \\begin{bmatrix} 0 \\\\ 1 \\\\ 1\\end{bmatrix}y =\n",
    "    \\begin{bmatrix} 3 \\\\ 1 \\\\ -2\\end{bmatrix}\n",
    "\\end{equation}\n",
    "$\n",
    "<br>\n",
    "$\n",
    "\\begin{equation}\n",
    "    \\begin{bmatrix}\n",
    "        1 & 0 & 3 \\\\\n",
    "        1 & 1 & 1 \\\\\n",
    "        0 & 1 & -2\\\\\n",
    "    \\end{bmatrix}\n",
    "    x = 3,y = -2,x + y = 1x + y = 1 \\xrightarrow[]{} 3 - 2 = 1\n",
    "\\end{equation}\n",
    "$\n",
    "<br>\n",
    "$\n",
    "\\begin{equation}\n",
    "    \\begin{bmatrix} 3 \\\\ 3 \\\\ 0\\end{bmatrix} +\n",
    "    \\begin{bmatrix} 0 \\\\ -2 \\\\ -2\\end{bmatrix} =\n",
    "    \\begin{bmatrix} 3 \\\\ 1 \\\\ -2\\end{bmatrix}\n",
    "\\end{equation}\n",
    "$\n",
    "<br>- The equation shown above proves that it is <font color = red>a linear combination.</font><br>"
   ]
  },
  {
   "cell_type": "code",
   "execution_count": 11,
   "metadata": {},
   "outputs": [
    {
     "name": "stdout",
     "output_type": "stream",
     "text": [
      "The vector is a linear combination.\n"
     ]
    }
   ],
   "source": [
    "import numpy as np\n",
    "\n",
    "# Define the vectors\n",
    "v = np.array([3, 1, -2])\n",
    "u2 = np.array([0, -2, -2])\n",
    "u3 = np.array([3, 1, -2])\n",
    "\n",
    "# Create the coefficient matrix and the constant vector\n",
    "coeff_matrix = np.vstack((u2, u3)).T\n",
    "constants = v\n",
    "\n",
    "# Check if there is a solution\n",
    "if np.linalg.matrix_rank(coeff_matrix) == np.linalg.matrix_rank(np.column_stack((coeff_matrix, constants))):\n",
    "    print(\"The vector is a linear combination.\")\n",
    "else:\n",
    "    print(\"The vector is not a linear combination.\")"
   ]
  },
  {
   "cell_type": "markdown",
   "metadata": {},
   "source": [
    "---"
   ]
  },
  {
   "cell_type": "markdown",
   "metadata": {},
   "source": [
    "7. Show that the following vectors are a span: <br>"
   ]
  },
  {
   "cell_type": "markdown",
   "metadata": {},
   "source": [
    "a.<br>\n",
    "$\n",
    "span\\begin{pmatrix}\n",
    "\\begin{bmatrix}1 \\\\ 1 \\\\ \\end{bmatrix}\n",
    "\\begin{bmatrix}1 \\\\ -1 \\\\ \\end{bmatrix}\n",
    "\\end{pmatrix}\n",
    "$\n",
    "<br><br>\n",
    "$\n",
    " \\begin{equation}\n",
    "    \\begin{bmatrix}\n",
    "        1 & 1 | x\\\\\n",
    "        1 & -1 | y\\\\\n",
    "    \\end{bmatrix}\n",
    "    \\xrightarrow[]{}\n",
    "    \\begin{bmatrix}\n",
    "        1 & 1 | x | R_1\\\\\n",
    "        1 & -1 | y | R_2\\\\\n",
    "    \\end{bmatrix}\n",
    "    \\xrightarrow[R_2 - R_1]{\\frac{1}{-2}R_2}\n",
    "    \\begin{bmatrix}\n",
    "        1 & 1 | x | R_1\\\\\n",
    "        0 & 1 | y | \\frac{1}{-2}R_2\\\\\n",
    "    \\end{bmatrix}\n",
    "\\end{equation}\n",
    "$\n",
    "- The following vectors are a span\n",
    "<br><br>"
   ]
  },
  {
   "cell_type": "code",
   "execution_count": 4,
   "metadata": {},
   "outputs": [
    {
     "name": "stdout",
     "output_type": "stream",
     "text": [
      "The vectors span the space.\n"
     ]
    }
   ],
   "source": [
    "import numpy as np\n",
    "\n",
    "# Define the vectors\n",
    "v1 = np.array([1, 1])\n",
    "v2 = np.array([1, -1])\n",
    "\n",
    "# Define an arbitrary vector\n",
    "arbitrary_vector = np.array([2, 3])\n",
    "\n",
    "# Create the coefficient matrix and the constant vector\n",
    "coeff_matrix = np.vstack((v1, v2)).T\n",
    "constants = arbitrary_vector\n",
    "\n",
    "# Solve the system of linear equations\n",
    "coefficients = np.linalg.solve(coeff_matrix, constants)\n",
    "\n",
    "# Check if the solution exists\n",
    "if np.allclose(np.dot(coeff_matrix, coefficients), constants):\n",
    "    print(\"The vectors span the space.\")\n",
    "else:\n",
    "    print(\"The vectors do not span the space.\")"
   ]
  },
  {
   "cell_type": "markdown",
   "metadata": {},
   "source": [
    "b.<br>\n",
    "$\n",
    "span\\begin{pmatrix}\n",
    "\\begin{bmatrix}1 \\\\ 0 \\\\ 1\\end{bmatrix}\n",
    "\\begin{bmatrix}1 \\\\ 1 \\\\ 0\\end{bmatrix}\n",
    "\\begin{bmatrix}0 \\\\ 1 \\\\ 1\\end{bmatrix}\n",
    "\\end{pmatrix}\n",
    "$\n",
    "<br><br>\n",
    "$\n",
    " \\begin{equation}\n",
    "    \\begin{bmatrix}\n",
    "        1 & 1 & 0| x\\\\\n",
    "        0 & 1 & 1| y\\\\\n",
    "        1 & 0 & 1| z\\\\\n",
    "    \\end{bmatrix}\n",
    "    \\xrightarrow[]{R_3 - R_1}\n",
    "    \\begin{bmatrix}\n",
    "        1 & 1 & 0| x\\\\\n",
    "        0 & 1 & 1| y\\\\\n",
    "        0 & -1 & 1| z - x\\\\\n",
    "    \\end{bmatrix}\n",
    "    \\xrightarrow[]{R_3 + R_2}   \n",
    "    \\begin{bmatrix}\n",
    "        1 & 1 & 0| x\\\\\n",
    "        0 & 1 & 1| y\\\\\n",
    "        0 & 0 & 2| y - x + z\\\\\n",
    "    \\end{bmatrix}\n",
    "\\end{equation}\n",
    "$\n",
    "- The following vectors are a span\n",
    "<br>"
   ]
  },
  {
   "cell_type": "code",
   "execution_count": 3,
   "metadata": {},
   "outputs": [
    {
     "name": "stdout",
     "output_type": "stream",
     "text": [
      "The vectors span the space.\n"
     ]
    }
   ],
   "source": [
    "import numpy as np\n",
    "\n",
    "# Define the vectors\n",
    "v1 = np.array([1, 0, 1])\n",
    "v2 = np.array([1, 1, 0])\n",
    "v3 = np.array([0, 1, 1])\n",
    "\n",
    "# Define an arbitrary vector\n",
    "arbitrary_vector = np.array([2, 3, 4])\n",
    "\n",
    "# Create the coefficient matrix and the constant vector\n",
    "coeff_matrix = np.vstack((v1, v2, v3)).T\n",
    "constants = arbitrary_vector\n",
    "\n",
    "# Solve the system of linear equations\n",
    "coefficients = np.linalg.solve(coeff_matrix, constants)\n",
    "\n",
    "# Check if the solution exists\n",
    "if np.allclose(np.dot(coeff_matrix, coefficients), constants):\n",
    "    print(\"The vectors span the space.\")\n",
    "else:\n",
    "    print(\"The vectors do not span the space.\")\n"
   ]
  },
  {
   "cell_type": "markdown",
   "metadata": {},
   "source": [
    "c.<br>\n",
    "$\n",
    "span\\begin{pmatrix}\n",
    "\\begin{bmatrix}1 \\\\ 0 \\\\ 1\\end{bmatrix}\n",
    "\\begin{bmatrix}1 \\\\ 1 \\\\ 0\\end{bmatrix}\n",
    "\\begin{bmatrix}0 \\\\ 1 \\\\ 1\\end{bmatrix}\n",
    "\\end{pmatrix}\n",
    "$\n",
    "<br><br>\n",
    "$\n",
    " \\begin{equation}\n",
    "    \\begin{bmatrix}\n",
    "        1 & 1 & 0| x\\\\\n",
    "        0 & 1 & 1| y\\\\\n",
    "        1 & 0 & 1| z\\\\\n",
    "    \\end{bmatrix}\n",
    "    \\xrightarrow[]{R_3 - R_1}\n",
    "    \\begin{bmatrix}\n",
    "        1 & 1 & 0| x\\\\\n",
    "        0 & 1 & 1| y\\\\\n",
    "        0 & -1 & 1| z - x\\\\\n",
    "    \\end{bmatrix}\n",
    "    \\xrightarrow[]{R_3 + R_2}   \n",
    "    \\begin{bmatrix}\n",
    "        1 & 1 & 0| x\\\\\n",
    "        0 & 1 & 1| y\\\\\n",
    "        0 & 0 & 2| y - x + z\\\\\n",
    "    \\end{bmatrix}\n",
    "\\end{equation}\n",
    "$\n",
    "- The following vectors are a span"
   ]
  },
  {
   "cell_type": "code",
   "execution_count": 5,
   "metadata": {},
   "outputs": [
    {
     "name": "stdout",
     "output_type": "stream",
     "text": [
      "The vectors span the space.\n"
     ]
    }
   ],
   "source": [
    "import numpy as np\n",
    "\n",
    "# Define the vectors\n",
    "v1 = np.array([1, 0, 1])\n",
    "v2 = np.array([1, 1, 0])\n",
    "v3 = np.array([0, 1, 1])\n",
    "\n",
    "# Define an arbitrary vector\n",
    "arbitrary_vector = np.array([2, 3, 4])\n",
    "\n",
    "# Create the coefficient matrix and the constant vector\n",
    "coeff_matrix = np.vstack((v1, v2, v3)).T\n",
    "constants = arbitrary_vector\n",
    "\n",
    "# Solve the system of linear equations\n",
    "coefficients = np.linalg.solve(coeff_matrix, constants)\n",
    "\n",
    "# Check if the solution exists\n",
    "if np.allclose(np.dot(coeff_matrix, coefficients), constants):\n",
    "    print(\"The vectors span the space.\")\n",
    "else:\n",
    "    print(\"The vectors do not span the space.\")\n"
   ]
  },
  {
   "cell_type": "markdown",
   "metadata": {},
   "source": [
    "---"
   ]
  },
  {
   "cell_type": "markdown",
   "metadata": {},
   "source": [
    "8. Show that the following vectors are linearly independent:<br><br>"
   ]
  },
  {
   "cell_type": "markdown",
   "metadata": {},
   "source": [
    "a. <br>\n",
    "$\n",
    "\\begin{equation}\n",
    "\\begin{bmatrix} 3 \\\\ -1 \\\\ 1 \\\\ -1 \\end{bmatrix}\n",
    "\\begin{bmatrix} -1 \\\\ 2 \\\\ 1 \\\\ -1 \\end{bmatrix}\n",
    "\\begin{bmatrix} 1 \\\\ 1 \\\\ 3 \\\\ 1 \\end{bmatrix}\n",
    "\\begin{bmatrix} -1 \\\\ -1 \\\\ 1 \\\\ 3 \\end{bmatrix}\n",
    "\\end{equation}\n",
    "$\n",
    "- m = 4 & n = 4; 4 $\\ngeq$ 4. By condidtion 3 & 4, the following vectors are linearly independent. <br>"
   ]
  },
  {
   "cell_type": "code",
   "execution_count": 3,
   "metadata": {},
   "outputs": [
    {
     "name": "stdout",
     "output_type": "stream",
     "text": [
      "Vectors are linearly independent.\n"
     ]
    }
   ],
   "source": [
    "import numpy as np\n",
    "\n",
    "def check_linear_independence(vectors):\n",
    "    # Create an augmented matrix [A | 0]\n",
    "    augmented_matrix = np.column_stack((vectors, np.zeros((len(vectors), 1))))\n",
    "\n",
    "    # Check if the vectors are linearly independent\n",
    "    is_linearly_independent = np.linalg.matrix_rank(vectors) == np.linalg.matrix_rank(augmented_matrix)\n",
    "\n",
    "    return is_linearly_independent\n",
    "\n",
    "# Given vectors\n",
    "r1 = np.array([0, 0, 0, 1])\n",
    "r2 = np.array([0, 0, 2, 1])\n",
    "r3 = np.array([0, 3, 2, 1])\n",
    "r4 = np.array([4, 3, 2, 1])\n",
    "\n",
    "# Organize vectors into a matrix\n",
    "vector_matrix = np.column_stack((r1, r2, r3, r4))\n",
    "\n",
    "# Check linear independence\n",
    "result = check_linear_independence(vector_matrix)\n",
    "\n",
    "# Print the result\n",
    "if result:\n",
    "    print(\"Vectors are linearly independent.\")\n",
    "else:\n",
    "    print(\"Vectors are not linearly independent.\")"
   ]
  },
  {
   "cell_type": "markdown",
   "metadata": {},
   "source": [
    "b. <br>\n",
    "$\n",
    "\\begin{equation}\n",
    "\\begin{bmatrix} 0 \\\\ 0 \\\\ 0 \\\\ 1 \\end{bmatrix}\n",
    "\\begin{bmatrix} 0 \\\\ 0 \\\\ 2 \\\\ 1 \\end{bmatrix}\n",
    "\\begin{bmatrix} 0 \\\\ 3 \\\\ 2 \\\\ 1 \\end{bmatrix}\n",
    "\\begin{bmatrix} 4 \\\\ 3 \\\\ 2 \\\\ 1 \\end{bmatrix}\n",
    "\\end{equation}\n",
    "$\n",
    "- L1: 4z = 0; z = 0\n",
    "- L2: 3w + 3z; w = 0\n",
    "- L3: 2y + 2w + 2z = 0; y = 0\n",
    "- L4: x + 0 + 0 + 0 = 0; x = 0\n",
    "- Therefore, the vectors are linearly independent by condition 1."
   ]
  },
  {
   "cell_type": "code",
   "execution_count": 4,
   "metadata": {},
   "outputs": [
    {
     "name": "stdout",
     "output_type": "stream",
     "text": [
      "Vectors are linearly independent.\n"
     ]
    }
   ],
   "source": [
    "import numpy as np\n",
    "\n",
    "def check_linear_independence(vectors):\n",
    "    # Create an augmented matrix [A | 0]\n",
    "    augmented_matrix = np.column_stack((vectors, np.zeros((len(vectors), 1))))\n",
    "\n",
    "    # Check if the vectors are linearly independent\n",
    "    is_linearly_independent = np.linalg.matrix_rank(vectors) == np.linalg.matrix_rank(augmented_matrix)\n",
    "\n",
    "    return is_linearly_independent\n",
    "\n",
    "# Given vectors\n",
    "r1 = np.array([0, 0, 0, 4])\n",
    "r2 = np.array([0, 0, 3, 3])\n",
    "r3 = np.array([0, 2, 2, 2])\n",
    "r4 = np.array([1, 1, 1, 1])\n",
    "\n",
    "# Organize vectors into a matrix\n",
    "vector_matrix = np.column_stack((r1, r2, r3, r4))\n",
    "\n",
    "# Check linear independence\n",
    "result = check_linear_independence(vector_matrix)\n",
    "\n",
    "# Print the result\n",
    "if result:\n",
    "    print(\"Vectors are linearly independent.\")\n",
    "else:\n",
    "    print(\"Vectors are not linearly independent.\")"
   ]
  },
  {
   "cell_type": "markdown",
   "metadata": {},
   "source": [
    "c. <br>\n",
    "$\n",
    "\\begin{equation}\n",
    "\\begin{bmatrix} 1 \\\\ -1 \\\\ 1 \\\\ 0 \\end{bmatrix}\n",
    "\\begin{bmatrix} -1 \\\\ 1 \\\\ 0 \\\\ 1 \\end{bmatrix}\n",
    "\\begin{bmatrix} 1 \\\\ 0 \\\\ 1 \\\\ -1 \\end{bmatrix}\n",
    "\\begin{bmatrix} 0 \\\\ 1 \\\\ -1 \\\\ 1 \\end{bmatrix}\n",
    "\\end{equation}\n",
    "$\n",
    "- m = 4 & n = 4. Therefore they are linearly independent by condidtion 4"
   ]
  },
  {
   "cell_type": "code",
   "execution_count": 5,
   "metadata": {},
   "outputs": [
    {
     "name": "stdout",
     "output_type": "stream",
     "text": [
      "Vectors are linearly independent.\n"
     ]
    }
   ],
   "source": [
    "import numpy as np\n",
    "\n",
    "def check_linear_independence(vectors):\n",
    "    # Create an augmented matrix [A | 0]\n",
    "    augmented_matrix = np.column_stack((vectors, np.zeros((len(vectors), 1))))\n",
    "\n",
    "    # Check if the vectors are linearly independent\n",
    "    is_linearly_independent = np.linalg.matrix_rank(vectors) == np.linalg.matrix_rank(augmented_matrix)\n",
    "\n",
    "    return is_linearly_independent\n",
    "\n",
    "# Given vectors\n",
    "r1 = np.array([1, -1, 1, 0])\n",
    "r2 = np.array([-1, 1, 0, 1])\n",
    "r3 = np.array([1, 0, 1, -1])\n",
    "r4 = np.array([0, 1, -1, 1])\n",
    "\n",
    "# Organize vectors into a matrix\n",
    "vector_matrix = np.column_stack((r1, r2, r3, r4))\n",
    "\n",
    "# Check linear independence\n",
    "result = check_linear_independence(vector_matrix)\n",
    "\n",
    "# Print the result\n",
    "if result:\n",
    "    print(\"Vectors are linearly independent.\")\n",
    "else:\n",
    "    print(\"Vectors are not linearly independent.\")"
   ]
  }
 ],
 "metadata": {
  "kernelspec": {
   "display_name": "Python 3",
   "language": "python",
   "name": "python3"
  },
  "language_info": {
   "codemirror_mode": {
    "name": "ipython",
    "version": 3
   },
   "file_extension": ".py",
   "mimetype": "text/x-python",
   "name": "python",
   "nbconvert_exporter": "python",
   "pygments_lexer": "ipython3",
   "version": "3.11.5"
  }
 },
 "nbformat": 4,
 "nbformat_minor": 2
}
